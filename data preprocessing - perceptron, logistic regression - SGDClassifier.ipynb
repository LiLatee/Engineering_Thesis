{
 "cells": [
  {
   "cell_type": "code",
   "execution_count": 41,
   "metadata": {},
   "outputs": [],
   "source": [
    "import pandas as pd\n",
    "import numpy as np\n",
    "headers = ['Sale','SalesAmountInEuro','time_delay_for_conversion','click_timestamp','nb_clicks_1week','product_price' ,'product_age_group' ,'device_type','audience_id' ,'product_gender' ,'product_brand' ,'product_category(1)', 'product_category(2)', 'product_category(3)', 'product_category(4)', 'product_category(5)', 'product_category(6)', 'product_category(7)', 'product_country', 'product_id' ,'product_title' ,'partner_id' ,'user_id']\n",
    "df = pd.read_csv('D:\\Projekty\\Engineering_Thesis\\Dataset\\Criteo_Conversion_Search\\CriteoSearchData.csv',\n",
    "                 sep='\\t',\n",
    "                 nrows=100000,\n",
    "                 names=headers,\n",
    "                 low_memory=False,\n",
    "                 usecols=[0,1,2,3,4,5,6,7,8,9,10,11,12,13,14,15,16,17,18,19,20,21,22])"
   ]
  },
  {
   "cell_type": "code",
   "execution_count": 42,
   "metadata": {},
   "outputs": [
    {
     "data": {
      "text/plain": [
       "Sale                         0\n",
       "SalesAmountInEuro            0\n",
       "time_delay_for_conversion    0\n",
       "click_timestamp              0\n",
       "nb_clicks_1week              0\n",
       "product_price                0\n",
       "product_age_group            0\n",
       "device_type                  0\n",
       "audience_id                  0\n",
       "product_gender               0\n",
       "product_brand                0\n",
       "product_category(1)          0\n",
       "product_category(2)          0\n",
       "product_category(3)          0\n",
       "product_category(4)          0\n",
       "product_category(5)          0\n",
       "product_category(6)          0\n",
       "product_category(7)          0\n",
       "product_country              0\n",
       "product_id                   0\n",
       "product_title                0\n",
       "partner_id                   0\n",
       "user_id                      0\n",
       "dtype: int64"
      ]
     },
     "execution_count": 42,
     "metadata": {},
     "output_type": "execute_result"
    }
   ],
   "source": [
    "df.iloc[:10,:]\n",
    "df = df.dropna(axis=0)\n",
    "df.isnull().sum()"
   ]
  },
  {
   "cell_type": "code",
   "execution_count": 43,
   "metadata": {},
   "outputs": [
    {
     "name": "stdout",
     "output_type": "stream",
     "text": [
      "0\t2\tSale\n",
      "1\t8076\tSalesAmountInEuro\n",
      "2\t7348\ttime_delay_for_conversion\n",
      "3\t94089\tclick_timestamp\n",
      "4\t1784\tnb_clicks_1week\n",
      "5\t3997\tproduct_price\n",
      "6\t10\tproduct_age_group\n",
      "7\t5\tdevice_type\n",
      "8\t4326\taudience_id\n",
      "9\t13\tproduct_gender\n",
      "10\t8075\tproduct_brand\n",
      "11\t22\tproduct_category(1)\n",
      "12\t149\tproduct_category(2)\n",
      "13\t768\tproduct_category(3)\n",
      "14\t1014\tproduct_category(4)\n",
      "15\t514\tproduct_category(5)\n",
      "16\t105\tproduct_category(6)\n",
      "17\t2\tproduct_category(7)\n",
      "18\t18\tproduct_country\n",
      "19\t53330\tproduct_id\n",
      "20\t36326\tproduct_title\n",
      "21\t277\tpartner_id\n",
      "22\t98874\tuser_id\n"
     ]
    }
   ],
   "source": [
    "len(np.unique(df.iloc[:,22].values))\n",
    "columns = list(df)\n",
    "for i, c in enumerate(columns):\n",
    "    print(str(i) + \"\\t\" + str(len(np.unique(df[c].values))) +  \"\\t\" + c  )\n",
    "    \n",
    "# 8, 10 , 19, 20, 22 - duza liczba unikalnych wartości (0,1,2,3 - nie bierzemy pod uwagę)\n",
    "\n"
   ]
  },
  {
   "cell_type": "code",
   "execution_count": 44,
   "metadata": {},
   "outputs": [],
   "source": [
    "df = pd.get_dummies(df.iloc[:,[6,7,9,11,12,13,14,15,16,17,18,21]])"
   ]
  },
  {
   "cell_type": "code",
   "execution_count": 45,
   "metadata": {},
   "outputs": [
    {
     "name": "stdout",
     "output_type": "stream",
     "text": [
      "Liczba etykiet w zbiorze y: [26642 72931]\n",
      "Liczba etykiet w zbiorze y_train: [18669 51032]\n",
      "Liczba etykiet w zbiorze y_test: [ 7973 21899]\n"
     ]
    }
   ],
   "source": [
    "from sklearn.model_selection import train_test_split\n",
    "\n",
    "X = df.iloc[:,3:].values\n",
    "y = df.iloc[:,:1].values.ravel() # tutaj powinny być chyba 3 kolumny\n",
    "X_train, X_test, y_train, y_test = train_test_split(X, y, test_size=0.3, random_state=1)\n",
    "print('Liczba etykiet w zbiorze y:', np.bincount(y))\n",
    "print('Liczba etykiet w zbiorze y_train:', np.bincount(y_train))\n",
    "print('Liczba etykiet w zbiorze y_test:', np.bincount(y_test))"
   ]
  },
  {
   "cell_type": "code",
   "execution_count": 46,
   "metadata": {},
   "outputs": [],
   "source": [
    "# from sklearn.preprocessing import OneHotEncoder\n",
    "# ohe = OneHotEncoder(categories='auto')\n",
    "# ohe.fit_transform(X).toarray()"
   ]
  },
  {
   "cell_type": "code",
   "execution_count": 47,
   "metadata": {},
   "outputs": [],
   "source": [
    "from sklearn.preprocessing import StandardScaler\n",
    "sc = StandardScaler()\n",
    "sc.fit(X_train)\n",
    "X_train_std = sc.transform(X_train)\n",
    "X_test_std = sc.transform(X_test)"
   ]
  },
  {
   "cell_type": "code",
   "execution_count": 48,
   "metadata": {},
   "outputs": [
    {
     "name": "stdout",
     "output_type": "stream",
     "text": [
      "-- Epoch 1\n",
      "Norm: 235.07, NNZs: 2742, Bias: 200.587745, T: 55760, Avg. loss: 8.554055\n",
      "Total training time: 0.48 seconds.\n",
      "-- Epoch 2\n",
      "Norm: 159.45, NNZs: 2742, Bias: 195.431653, T: 111520, Avg. loss: 0.773680\n",
      "Total training time: 0.92 seconds.\n",
      "-- Epoch 3\n",
      "Norm: 126.59, NNZs: 2742, Bias: 192.120138, T: 167280, Avg. loss: 0.560246\n",
      "Total training time: 1.34 seconds.\n",
      "-- Epoch 4\n",
      "Norm: 109.04, NNZs: 2742, Bias: 189.561615, T: 223040, Avg. loss: 0.478993\n",
      "Total training time: 1.78 seconds.\n",
      "-- Epoch 5\n",
      "Norm: 96.60, NNZs: 2742, Bias: 187.462335, T: 278800, Avg. loss: 0.269858\n",
      "Total training time: 2.20 seconds.\n",
      "-- Epoch 6\n",
      "Norm: 89.39, NNZs: 2742, Bias: 185.497179, T: 334560, Avg. loss: 0.244154\n",
      "Total training time: 2.60 seconds.\n",
      "-- Epoch 7\n",
      "Norm: 83.91, NNZs: 2742, Bias: 184.021680, T: 390320, Avg. loss: 0.165401\n",
      "Total training time: 3.00 seconds.\n",
      "-- Epoch 8\n",
      "Norm: 78.99, NNZs: 2742, Bias: 182.614147, T: 446080, Avg. loss: 0.124026\n",
      "Total training time: 3.40 seconds.\n",
      "-- Epoch 9\n",
      "Norm: 75.33, NNZs: 2742, Bias: 181.297097, T: 501840, Avg. loss: 0.158264\n",
      "Total training time: 3.80 seconds.\n",
      "-- Epoch 10\n",
      "Norm: 71.77, NNZs: 2742, Bias: 180.207360, T: 557600, Avg. loss: 0.120242\n",
      "Total training time: 4.20 seconds.\n",
      "-- Epoch 11\n",
      "Norm: 69.23, NNZs: 2742, Bias: 179.116612, T: 613360, Avg. loss: 0.121663\n",
      "Total training time: 4.60 seconds.\n",
      "-- Epoch 12\n",
      "Norm: 66.92, NNZs: 2742, Bias: 178.077732, T: 669120, Avg. loss: 0.070498\n",
      "Total training time: 5.00 seconds.\n",
      "-- Epoch 13\n",
      "Norm: 64.77, NNZs: 2742, Bias: 177.184789, T: 724880, Avg. loss: 0.063865\n",
      "Total training time: 5.40 seconds.\n",
      "-- Epoch 14\n",
      "Norm: 63.10, NNZs: 2742, Bias: 176.310446, T: 780640, Avg. loss: 0.073059\n",
      "Total training time: 5.82 seconds.\n",
      "-- Epoch 15\n",
      "Norm: 61.43, NNZs: 2742, Bias: 175.523079, T: 836400, Avg. loss: 0.052013\n",
      "Total training time: 6.22 seconds.\n",
      "-- Epoch 16\n",
      "Norm: 60.42, NNZs: 2742, Bias: 174.682812, T: 892160, Avg. loss: 0.041543\n",
      "Total training time: 6.63 seconds.\n",
      "-- Epoch 17\n",
      "Norm: 59.18, NNZs: 2742, Bias: 174.035636, T: 947920, Avg. loss: 0.039284\n",
      "Total training time: 7.04 seconds.\n",
      "-- Epoch 18\n",
      "Norm: 58.07, NNZs: 2742, Bias: 173.384360, T: 1003680, Avg. loss: 0.044031\n",
      "Total training time: 7.43 seconds.\n",
      "-- Epoch 19\n",
      "Norm: 57.32, NNZs: 2742, Bias: 172.665598, T: 1059440, Avg. loss: 0.013282\n",
      "Total training time: 7.85 seconds.\n",
      "-- Epoch 20\n",
      "Norm: 56.50, NNZs: 2742, Bias: 172.046858, T: 1115200, Avg. loss: 0.014726\n",
      "Total training time: 8.25 seconds.\n",
      "-- Epoch 21\n",
      "Norm: 55.76, NNZs: 2742, Bias: 171.455736, T: 1170960, Avg. loss: 0.010843\n",
      "Total training time: 8.64 seconds.\n",
      "-- Epoch 22\n",
      "Norm: 55.10, NNZs: 2742, Bias: 170.889563, T: 1226720, Avg. loss: 0.015314\n",
      "Total training time: 9.04 seconds.\n",
      "-- Epoch 23\n",
      "Norm: 54.54, NNZs: 2742, Bias: 170.328529, T: 1282480, Avg. loss: 0.007062\n",
      "Total training time: 9.44 seconds.\n",
      "-- Epoch 24\n",
      "Norm: 53.91, NNZs: 2742, Bias: 169.824427, T: 1338240, Avg. loss: 0.006744\n",
      "Total training time: 9.84 seconds.\n",
      "-- Epoch 25\n",
      "Norm: 53.44, NNZs: 2742, Bias: 169.314782, T: 1394000, Avg. loss: 0.008221\n",
      "Total training time: 10.24 seconds.\n",
      "-- Epoch 26\n",
      "Norm: 53.07, NNZs: 2742, Bias: 168.807191, T: 1449760, Avg. loss: 0.006541\n",
      "Total training time: 10.64 seconds.\n",
      "-- Epoch 27\n",
      "Norm: 52.63, NNZs: 2742, Bias: 168.355708, T: 1505520, Avg. loss: 0.009869\n",
      "Total training time: 11.04 seconds.\n",
      "-- Epoch 28\n",
      "Norm: 52.28, NNZs: 2742, Bias: 167.898555, T: 1561280, Avg. loss: 0.008962\n",
      "Total training time: 11.45 seconds.\n",
      "Convergence after 28 epochs took 11.45 seconds\n"
     ]
    },
    {
     "data": {
      "text/plain": [
       "SGDClassifier(alpha=0.0001, average=False, class_weight=None,\n",
       "              early_stopping=False, epsilon=0.1, eta0=0.0, fit_intercept=True,\n",
       "              l1_ratio=0.15, learning_rate='optimal', loss='log', max_iter=1000,\n",
       "              n_iter_no_change=5, n_jobs=-1, penalty='l2', power_t=0.5,\n",
       "              random_state=1, shuffle=True, tol=0.001, validation_fraction=0.1,\n",
       "              verbose=1, warm_start=False)"
      ]
     },
     "execution_count": 48,
     "metadata": {},
     "output_type": "execute_result"
    }
   ],
   "source": [
    "from sklearn.linear_model import Perceptron, LogisticRegression, SGDClassifier\n",
    "import random\n",
    "# ppn = Perceptron(eta0=0.1, random_state=1, n_jobs=-1)\n",
    "# ppn.fit(X_train_std, y_train)\n",
    "\n",
    "# lr = LogisticRegression(C=1000.0, random_state=1, solver=\"lbfgs\", n_jobs=-1, verbose=1)\n",
    "# lr.fit(X_train_std, y_train)\n",
    "\n",
    "X_train_std, X_val_std, y_train, y_val = train_test_split(X_train_std, y_train, test_size=0.2, random_state=1)\n",
    "lr = SGDClassifier(loss='log', verbose=1, n_jobs=-1, random_state=1)\n",
    "lr.fit(X_train_std, y_train)\n"
   ]
  },
  {
   "cell_type": "code",
   "execution_count": 49,
   "metadata": {},
   "outputs": [
    {
     "name": "stdout",
     "output_type": "stream",
     "text": [
      "Nieprawidłowo sklasyfikowane próbki: 211\n"
     ]
    }
   ],
   "source": [
    "# y_pred = ppn.predict(X_test_std)\n",
    "# print('Nieprawidłowo sklasyfikowane próbki: %d' % (y_test != y_pred).sum())\n",
    "\n",
    "y_pred = lr.predict(X_test_std)\n",
    "print('Nieprawidłowo sklasyfikowane próbki: %d' % (y_test != y_pred).sum())"
   ]
  },
  {
   "cell_type": "code",
   "execution_count": 50,
   "metadata": {},
   "outputs": [
    {
     "name": "stdout",
     "output_type": "stream",
     "text": [
      "Dokładność: 0.99\n",
      "-- Epoch 1\n",
      "Norm: 54.30, NNZs: 2742, Bias: 167.385086, T: 13941, Avg. loss: 0.114721\n",
      "Total training time: 0.10 seconds.\n"
     ]
    },
    {
     "data": {
      "text/plain": [
       "SGDClassifier(alpha=0.0001, average=False, class_weight=None,\n",
       "              early_stopping=False, epsilon=0.1, eta0=0.0, fit_intercept=True,\n",
       "              l1_ratio=0.15, learning_rate='optimal', loss='log', max_iter=1000,\n",
       "              n_iter_no_change=5, n_jobs=-1, penalty='l2', power_t=0.5,\n",
       "              random_state=1, shuffle=True, tol=0.001, validation_fraction=0.1,\n",
       "              verbose=1, warm_start=False)"
      ]
     },
     "execution_count": 50,
     "metadata": {},
     "output_type": "execute_result"
    }
   ],
   "source": [
    "from sklearn.metrics import accuracy_score\n",
    "print('Dokładność: %.2f' % accuracy_score(y_test, y_pred))\n",
    "lr.partial_fit(X_val_std, y_val)"
   ]
  },
  {
   "cell_type": "code",
   "execution_count": 51,
   "metadata": {},
   "outputs": [
    {
     "name": "stdout",
     "output_type": "stream",
     "text": [
      "Dokładność: 1.00\n"
     ]
    }
   ],
   "source": [
    "# print('Dokładność: %.2f' % ppn.score(X_test_std, y_test))\n",
    "print('Dokładność: %.2f' % lr.score(X_test_std, y_test))"
   ]
  },
  {
   "cell_type": "code",
   "execution_count": null,
   "metadata": {},
   "outputs": [],
   "source": []
  },
  {
   "cell_type": "code",
   "execution_count": null,
   "metadata": {},
   "outputs": [],
   "source": []
  },
  {
   "cell_type": "code",
   "execution_count": null,
   "metadata": {},
   "outputs": [],
   "source": []
  }
 ],
 "metadata": {
  "kernelspec": {
   "display_name": "Python 3",
   "language": "python",
   "name": "python3"
  },
  "language_info": {
   "codemirror_mode": {
    "name": "ipython",
    "version": 3
   },
   "file_extension": ".py",
   "mimetype": "text/x-python",
   "name": "python",
   "nbconvert_exporter": "python",
   "pygments_lexer": "ipython3",
   "version": "3.7.3"
  }
 },
 "nbformat": 4,
 "nbformat_minor": 2
}
