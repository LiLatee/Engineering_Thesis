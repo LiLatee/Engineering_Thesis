{
 "cells": [
  {
   "cell_type": "code",
   "execution_count": 15,
   "metadata": {},
   "outputs": [],
   "source": [
    "import pandas as pd\n",
    "import numpy as np\n",
    "headers = ['Sale','SalesAmountInEuro','time_delay_for_conversion','click_timestamp','nb_clicks_1week','product_price' ,'product_age_group' ,'device_type','audience_id' ,'product_gender' ,'product_brand' ,'product_category(1)', 'product_category(2)', 'product_category(3)', 'product_category(4)', 'product_category(5)', 'product_category(6)', 'product_category(7)', 'product_country', 'product_id' ,'product_title' ,'partner_id' ,'user_id']\n",
    "df_original = pd.read_csv('D:\\Projekty\\Engineering_Thesis\\Dataset\\Criteo_Conversion_Search\\CriteoSearchData-sorted.csv',\n",
    "                 sep='\\t',\n",
    "                 nrows=2000,\n",
    "                 names=headers,\n",
    "                 low_memory=False,\n",
    "                 usecols=[0,1,2,3,4,5,6,7,8,9,10,11,12,13,14,15,16,17,18,19,20,21,22])\n",
    "# df_original = df_original.sort(column='click_timestamp', ascending=True)\n",
    "# df_original.iloc[:10,:]\n",
    "lst = [df_original]"
   ]
  },
  {
   "cell_type": "code",
   "execution_count": 16,
   "metadata": {},
   "outputs": [],
   "source": [
    "# zbieranie unikalnych wartości kolumn do słownika\n",
    "#  indeksy kolumn, z których tworzymy one hot vectors [6, 7, 9, 11, 12, 13, 14, 15, 16, 17, 18, 21]\n",
    "name_of_columns = ['product_age_group',\n",
    "                   'device_type',\n",
    "                   'product_gender',\n",
    "                   'product_category(1)',\n",
    "                   'product_category(2)',\n",
    "                   'product_category(3)',\n",
    "                   'product_category(4)',\n",
    "                   'product_category(5)',\n",
    "                   'product_category(6)',\n",
    "                   'product_category(7)',\n",
    "                   'product_country', \n",
    "                   'partner_id']\n",
    "\n",
    "name_uniqueValues_dict = dict.fromkeys(name_of_columns)\n",
    "for column_name in name_of_columns:\n",
    "    name_uniqueValues_dict[column_name] = np.delete(df_original[column_name].unique(), 0)\n",
    "\n",
    "# for v in name_uniqueValues_dict.values():\n",
    "#     print(len(v))\n",
    "\n"
   ]
  },
  {
   "cell_type": "code",
   "execution_count": 17,
   "metadata": {},
   "outputs": [],
   "source": [
    "# tworzenie listy zawierajacej nazwy wszystkich wymaganych kolumn\n",
    "name_of_required_columns_list = np.array([])\n",
    "name_of_required_columns_list = np.append(name_of_required_columns_list, ['Sale'])\n",
    "name_of_required_columns_list = np.append(name_of_required_columns_list, ['SalesAmountInEuro'])\n",
    "name_of_required_columns_list = np.append(name_of_required_columns_list, ['time_delay_for_conversion'])\n",
    "name_of_required_columns_list = np.append(name_of_required_columns_list, ['click_timestamp'])\n",
    "name_of_required_columns_list = np.append(name_of_required_columns_list, ['nb_clicks_1week'])\n",
    "\n",
    "for column_name in name_of_columns:\n",
    "    for i, value in enumerate(name_uniqueValues_dict[column_name]):\n",
    "        x = column_name + '_' + str(value)\n",
    "        name_of_required_columns_list = np.append(name_of_required_columns_list, [x])\n",
    "    "
   ]
  },
  {
   "cell_type": "code",
   "execution_count": 18,
   "metadata": {},
   "outputs": [
    {
     "data": {
      "text/html": [
       "<div>\n",
       "<style scoped>\n",
       "    .dataframe tbody tr th:only-of-type {\n",
       "        vertical-align: middle;\n",
       "    }\n",
       "\n",
       "    .dataframe tbody tr th {\n",
       "        vertical-align: top;\n",
       "    }\n",
       "\n",
       "    .dataframe thead th {\n",
       "        text-align: right;\n",
       "    }\n",
       "</style>\n",
       "<table border=\"1\" class=\"dataframe\">\n",
       "  <thead>\n",
       "    <tr style=\"text-align: right;\">\n",
       "      <th></th>\n",
       "      <th>Sale</th>\n",
       "      <th>SalesAmountInEuro</th>\n",
       "      <th>time_delay_for_conversion</th>\n",
       "      <th>click_timestamp</th>\n",
       "      <th>nb_clicks_1week</th>\n",
       "      <th>product_age_group_4C90FD52FC53D2C1C205844CB69575AB</th>\n",
       "      <th>product_age_group_-1</th>\n",
       "      <th>product_age_group_88460293E9517D21E39AA889BD5AADC8</th>\n",
       "      <th>product_age_group_0CD76C7030D0900BE250C8D41703D180</th>\n",
       "      <th>product_age_group_538912C31E773613AB51FBAE58492476</th>\n",
       "      <th>...</th>\n",
       "      <th>partner_id_3C5FE3370451FAB3525496A1592E6609</th>\n",
       "      <th>partner_id_803D7F31D6B3D82E601B50CD4AA57B36</th>\n",
       "      <th>partner_id_3856D19BC4A03D424B53CC8553AF31DC</th>\n",
       "      <th>partner_id_74A06C6723C84E6A910A931705A832AA</th>\n",
       "      <th>partner_id_D29083FCF28FF0E6EEC03B6CA360B231</th>\n",
       "      <th>partner_id_4AE4624001361775D6E51D5698147C37</th>\n",
       "      <th>partner_id_7E3E579C9B4BDF1503E6F10F484334A6</th>\n",
       "      <th>partner_id_913A7F7053B85ACBCCB6CFCEF98DD79A</th>\n",
       "      <th>partner_id_80B621829A146066458564677C584294</th>\n",
       "      <th>partner_id_F762E4949B07C39AEA4F2D26849B1893</th>\n",
       "    </tr>\n",
       "  </thead>\n",
       "  <tbody>\n",
       "  </tbody>\n",
       "</table>\n",
       "<p>0 rows × 684 columns</p>\n",
       "</div>"
      ],
      "text/plain": [
       "Empty DataFrame\n",
       "Columns: [Sale, SalesAmountInEuro, time_delay_for_conversion, click_timestamp, nb_clicks_1week, product_age_group_4C90FD52FC53D2C1C205844CB69575AB, product_age_group_-1, product_age_group_88460293E9517D21E39AA889BD5AADC8, product_age_group_0CD76C7030D0900BE250C8D41703D180, product_age_group_538912C31E773613AB51FBAE58492476, product_age_group_921B36149E5B081FD24450BFE2CE4430, device_type_D7D1FB49049702BF6338894757E0D959, device_type_7E56C27BFF0305E788DA55A029EC4988, device_type_FF2C446555E3822B0E0FC3406116E86D, product_gender_A5D15FC386510762EC0DDFF54ABE6F94, product_gender_-1, product_gender_1B491180398E2F0390E6A588B3BCE291, product_gender_C45A9AC6D102ACAEEDF0D6F78636D84A, product_gender_28F311FA00BD3B4D076659D87EE3AE8D, product_gender_D7B42B0C4D807EF1C13F79948743E9DA, product_gender_6EFABCEDA36A931DBF760F88970BAF0E, product_gender_D894202FD3ABAE0B55F9FAE133412DE5, product_category(1)_7F286560861764CCB93C90B7AA833949, product_category(1)_033E492229C2222EFAA16EE8A6462D8B, product_category(1)_7532B3FBAFEC164460C4ED6FEB0C022C, product_category(1)_944B2A351FEFAC79AEAA9DA57E1B351F, product_category(1)_62D6A49514020FA0B2E434DB0B506005, product_category(1)_9D307E5B713DE5E90D787BE9F802AFBB, product_category(1)_-1, product_category(1)_EC997D43AC86A75D9B88A1051F86A67C, product_category(1)_635623BABBB7DA2E072D8C339F606E15, product_category(1)_88CED8BA3AA711A20ACF8B1FC574F218, product_category(1)_2551A1FA7839742971CDF4C67667E17A, product_category(1)_13C26D10258053889D75D9B9CA922EC7, product_category(1)_B4B45C6CE5FC4DE45AB02974D8849DBD, product_category(1)_2134F56D3769B5022DB7172F1536B749, product_category(1)_E02400CDAD96905D88E932FE9B7D3552, product_category(1)_111C91D6B0D89C84BF196FED8DBE7BBB, product_category(1)_5D656311CF9F47E34248BE9FBFF194A0, product_category(1)_DDC2B3CC38945E431DE1B3F59EC56680, product_category(2)_1F7C0436C367A14B4C62294F235D45A4, product_category(2)_891EE660A73D9A6E1F4BD6149E613C44, product_category(2)_CD599E5A946D00A81A875E085F7EF1E8, product_category(2)_77FFC91A6157E50A0A114135F18BB1DB, product_category(2)_093C266CF22FC590758F27FD8B32CCBA, product_category(2)_26DF34C9B5E43303C2D298D28339FE09, product_category(2)_8C0191D426F4A3944D1E8BC2E012646D, product_category(2)_5DA3309EAFC202FA6674E96D1A956E42, product_category(2)_-1, product_category(2)_50FF54E71F635597F839D2428054DC0C, product_category(2)_9868E1576979CBF21E2B80E1623F67B9, product_category(2)_1CA629F8F10B2541E08A1A994CDA0F1D, product_category(2)_80DF9DD23FCDB4F869BD699276D0A677, product_category(2)_59DF0A0F3F9417025D07FE50A4E762AC, product_category(2)_B38982D91795B014244C088FFF1B7C88, product_category(2)_BAF3B3C341EAE48387D11D673237916B, product_category(2)_FE4A86571601A1EF619CDB48BCD7F9A3, product_category(2)_65838FD696D6EEF1348247F87B8A298E, product_category(2)_D8C555B86D5912C47B979FD96E6D802D, product_category(2)_41DF6386116137A19E7DBC07CE44C95A, product_category(2)_B0D05C25C172D0737F04EF0AF0663D28, product_category(2)_BB4A179E615AD18488A859BC09B06D60, product_category(2)_A78952B21B4165ADA2189AE66887E2F1, product_category(2)_E789413C60FC1A6E1CA4DE376C188E1D, product_category(2)_49C166361658D9ACF79C78FC97272B01, product_category(2)_94AD28800A063F2E676E76DEA24E5FB9, product_category(2)_C1E60A42840668783CE8F9C783D33BD5, product_category(2)_939A40D09BD05A13C32B381245670495, product_category(2)_A064B48EA8588E500FE1523D1A696260, product_category(2)_346AC0DECB71FFDC9114236B419D7814, product_category(2)_7701F5CEE32DB638E1B6F59ED0CBD56D, product_category(2)_AFD1C37D8C150F6BD24EDB35AE6FAF29, product_category(2)_0F5AE38AFC0210BAE65C4C9491339B08, product_category(2)_FFBD847719C42D1F80F560739885435D, product_category(2)_39BFB0071810E6168E9C1D688B37A3C1, product_category(2)_363A49FD853AAB09C8F70C8E871989D5, product_category(2)_CF4A1E27D7961B7728CDCB3EE346BC36, product_category(2)_62B29A96D2B6D708F7BAFF4582C77702, product_category(2)_7A15B4DA987D29E259AFCB82481D6E57, product_category(2)_787A6DD816F41B4F9B37B6E3DE30EBEF, product_category(2)_ACDF97607D4582908919826E22479A06, product_category(2)_3DCF45B664023887F9F2DDA616853C50, product_category(2)_5FFF4B5CB2394F65A7F5F93604A1E4DC, product_category(2)_08D39006D3116AA1341D32F06499EA72, product_category(2)_E72CB5840931462DD18EC34C69D82789, product_category(2)_80BC62CF6053421C6764DBCB13259966, product_category(2)_A637561B7350EC861485EE1D11F14096, product_category(2)_FF1476CF2BF600F821D861644080E1E1, product_category(2)_791FBB12E44C1CAB7AFFD314326EBD00, product_category(2)_1FD27C6B29DE4DF9ACB273A00EBDEEDA, product_category(2)_7043E7DDADAFBEF842839D1A0F34C1A8, product_category(2)_FB9484497C58FBB55B560FC0E5084505, product_category(2)_4739C29FB9D804A0669AFB6F7D332A20, product_category(2)_1383D17E4CECF466E317484A5E646405, product_category(2)_4295BE0EC68D12EDB7D771310069C493, product_category(2)_B15A5C8051F1C358F3F4A61F5ED569B4, product_category(2)_9C1826AA99FCBAD808BA2AB8712B0C43, product_category(2)_AA87C1FF46E874FED501FD77388129B1, product_category(2)_D28A87BAAF0922BEB3E8099E6E262237, product_category(2)_2962E74790A551FF2225657A6F92D812, ...]\n",
       "Index: []\n",
       "\n",
       "[0 rows x 684 columns]"
      ]
     },
     "execution_count": 18,
     "metadata": {},
     "output_type": "execute_result"
    }
   ],
   "source": [
    "# tworzenie dataframeu ze ze wszystkimi wymaganymi kolumnami (unikalnymi wartościami kolumn z poprzedniego poodpunktu)\n",
    "d = pd.DataFrame(columns=name_of_required_columns_list)\n",
    "d"
   ]
  },
  {
   "cell_type": "code",
   "execution_count": 19,
   "metadata": {},
   "outputs": [],
   "source": [
    "# from guppy import hpy\n",
    "# h = hpy()\n",
    "# print(h.heap())\n"
   ]
  },
  {
   "cell_type": "code",
   "execution_count": 20,
   "metadata": {},
   "outputs": [
    {
     "name": "stdout",
     "output_type": "stream",
     "text": [
      "239.9289538860321\n"
     ]
    }
   ],
   "source": [
    "# zamiana przychodzącej próbki na format utworzonego dataframe\n",
    "import time\n",
    "\n",
    "g = d\n",
    "number_of_rows = df_original.shape[0]\n",
    "start = time.time()\n",
    "for i in range(1002, number_of_rows+1):\n",
    "    old_sample = df_original[i-1:i].squeeze()\n",
    "    df_original.drop(df_original.index[0])\n",
    "    new_sample = pd.Series(0, index=name_of_required_columns_list)\n",
    "\n",
    "    new_sample['Sale'] = old_sample['Sale']\n",
    "    new_sample['SalesAmountInEuro'] = old_sample['SalesAmountInEuro']\n",
    "    new_sample['time_delay_for_conversion'] = old_sample['time_delay_for_conversion']\n",
    "    new_sample['click_timestamp'] = old_sample['click_timestamp']\n",
    "    new_sample['nb_clicks_1week'] = old_sample['nb_clicks_1week']\n",
    "\n",
    "\n",
    "    for id, (column, value) in enumerate(zip(old_sample.index, old_sample.values)):\n",
    "        if id >= 3:\n",
    "            if value == old_sample[column]:\n",
    "                new_sample[column + '_' + value] = int(1)\n",
    "\n",
    "\n",
    "    # new_sample['product_age_group_4C90FD52FC53D2C1C205844CB69575AB'] = old_sample['product_age_group']\n",
    "\n",
    "    g = g.append(new_sample, ignore_index=True)\n",
    "end = time.time()\n",
    "print(end - start)\n",
    "# g"
   ]
  },
  {
   "cell_type": "code",
   "execution_count": 21,
   "metadata": {},
   "outputs": [
    {
     "name": "stdout",
     "output_type": "stream",
     "text": [
      "2.613689661026001\n"
     ]
    }
   ],
   "source": [
    "start = time.time()\n",
    "g.to_csv(\"Dataset\\heh1kv2.csv\", sep='\\t', index=False)\n",
    "end = time.time()\n",
    "print(end - start)"
   ]
  },
  {
   "cell_type": "code",
   "execution_count": null,
   "metadata": {},
   "outputs": [],
   "source": [
    "df_original[1:2]"
   ]
  },
  {
   "cell_type": "code",
   "execution_count": null,
   "metadata": {},
   "outputs": [],
   "source": [
    "# df_original = df_original.sort_values(\"click_timestamp\", axis=0, ascending=True, inplace=False, kind='quicksort', na_position='last')"
   ]
  },
  {
   "cell_type": "code",
   "execution_count": null,
   "metadata": {},
   "outputs": [],
   "source": [
    "# df_original.to_csv(\"Dataset\\sorted.csv\", sep='\\t', index=False)"
   ]
  },
  {
   "cell_type": "code",
   "execution_count": null,
   "metadata": {},
   "outputs": [],
   "source": [
    "# df_original[df_original.isnull().any(axis=1)].loc[:,'product_title']"
   ]
  },
  {
   "cell_type": "code",
   "execution_count": null,
   "metadata": {},
   "outputs": [],
   "source": [
    "print(df_original.isnull().sum())\n",
    "df = df_original.dropna(axis=0) # usuwanie wierszy, które zawierają null\n",
    "df.isnull().sum()\n"
   ]
  },
  {
   "cell_type": "code",
   "execution_count": null,
   "metadata": {},
   "outputs": [],
   "source": [
    "columns = list(df)\n",
    "for id, name in enumerate(columns):\n",
    "    count = len(df.iloc[:,id].unique())\n",
    "    print(str(id) + \"\\t\" + str(count) +  \"\\t\" + name  )"
   ]
  },
  {
   "cell_type": "code",
   "execution_count": null,
   "metadata": {},
   "outputs": [],
   "source": [
    "# index_of_columns_with_lower_than_1000_unique_values = []\n",
    "# excluded_indexes = [0, 1, 2, 3, 4, 5]\n",
    "# for id, count in enumerate(count_of_unique_values_in_each_row):\n",
    "#     if id not in excluded_indexes:\n",
    "#         if count < 1000:\n",
    "#             index_of_columns_with_lower_than_1000_unique_values.append(id)\n",
    "# df = pd.get_dummies(df.iloc[:,index_of_columns_with_lower_than_1000_unique_values])\n",
    "\n",
    "# df = pd.get_dummies(df.iloc[:,[6,7,9,11,12,13,14,15,16,17,18,21]])\n",
    "\n",
    "\n",
    "df_copy=df\n",
    "index_of_columns_to_change_to_one_hot_vectors = [6, 7, 9, 11, 12, 13, 14, 15, 16, 17, 18, 21]\n",
    "\n",
    "df_only_one_hot_vectors_columns = pd.get_dummies(df.iloc[:,index_of_columns_to_change_to_one_hot_vectors])\n",
    "df_common_columns = df.iloc[:,[0, 1, 2, 4, 5 ]]\n",
    "df_copy = pd.concat([df_common_columns, df_only_one_hot_vectors_columns ], axis=1, sort=True)\n",
    "df=df_copy\n",
    "df[:10]"
   ]
  },
  {
   "cell_type": "code",
   "execution_count": null,
   "metadata": {},
   "outputs": [],
   "source": [
    "# df.to_csv(\"one_hot_vectors_data_whole_file.csv\", sep='\\t', index=False)"
   ]
  },
  {
   "cell_type": "code",
   "execution_count": null,
   "metadata": {},
   "outputs": [],
   "source": []
  },
  {
   "cell_type": "code",
   "execution_count": null,
   "metadata": {},
   "outputs": [],
   "source": [
    "from sklearn.model_selection import train_test_split\n",
    "\n",
    "X = df.iloc[:,3:].values\n",
    "y = df.iloc[:,:1].values.ravel() # tutaj powinny być chyba 3 kolumny\n",
    "X_train, X_test, y_train, y_test = train_test_split(X, y, test_size=0.3, random_state=1)\n",
    "print('Liczba etykiet w zbiorze y:', np.bincount(y))\n",
    "print('Liczba etykiet w zbiorze y_train:', np.bincount(y_train))\n",
    "print('Liczba etykiet w zbiorze y_test:', np.bincount(y_test))"
   ]
  },
  {
   "cell_type": "code",
   "execution_count": null,
   "metadata": {},
   "outputs": [],
   "source": [
    "# from sklearn.preprocessing import OneHotEncoder\n",
    "# ohe = OneHotEncoder(categories='auto')\n",
    "# ohe.fit_transform(X).toarray()"
   ]
  },
  {
   "cell_type": "code",
   "execution_count": null,
   "metadata": {},
   "outputs": [],
   "source": [
    "from sklearn.preprocessing import StandardScaler\n",
    "sc = StandardScaler()\n",
    "sc.fit(X_train)\n",
    "X_train_std = sc.transform(X_train)\n",
    "X_test_std = sc.transform(X_test)\n"
   ]
  },
  {
   "cell_type": "code",
   "execution_count": null,
   "metadata": {},
   "outputs": [],
   "source": [
    "from sklearn.linear_model import Perceptron, LogisticRegression, SGDClassifier\n",
    "import random\n",
    "# ppn = Perceptron(eta0=0.1, random_state=1, n_jobs=-1)\n",
    "# ppn.fit(X_train_std, y_train)\n",
    "\n",
    "# lr = LogisticRegression(C=1000.0, random_state=1, solver=\"lbfgs\", n_jobs=-1, verbose=1)\n",
    "# lr.fit(X_train_std, y_train)\n",
    "\n",
    "\n",
    "X_train_std, X_val_std, y_train, y_val = train_test_split(X_train_std, y_train, test_size=0.2, random_state=1)\n",
    "lr = SGDClassifier(loss='log', verbose=0, n_jobs=-1, random_state=1)\n",
    "lr.fit(X_train_std, y_train)\n"
   ]
  },
  {
   "cell_type": "code",
   "execution_count": null,
   "metadata": {},
   "outputs": [],
   "source": [
    "# y_pred = ppn.predict(X_test_std)\n",
    "# print('Nieprawidłowo sklasyfikowane próbki: %d' % (y_test != y_pred).sum())\n",
    "\n",
    "y_pred = lr.predict(X_test_std)\n",
    "print('Nieprawidłowo sklasyfikowane próbki: %d' % (y_test != y_pred).sum())"
   ]
  },
  {
   "cell_type": "code",
   "execution_count": null,
   "metadata": {},
   "outputs": [],
   "source": [
    "from sklearn.metrics import accuracy_score\n",
    "print('Dokładność: %.2f' % accuracy_score(y_test, y_pred))\n",
    "lr.partial_fit(X_val_std, y_val)"
   ]
  },
  {
   "cell_type": "code",
   "execution_count": null,
   "metadata": {},
   "outputs": [],
   "source": [
    "# print('Dokładność: %.2f' % ppn.score(X_test_std, y_test))\n",
    "print('Dokładność: %.2f' % lr.score(X_test_std, y_test))"
   ]
  },
  {
   "cell_type": "code",
   "execution_count": null,
   "metadata": {},
   "outputs": [],
   "source": [
    "# sqlite\n",
    "from sqlalchemy import create_engine\n",
    "engine = create_engine('sqlite://', echo=False)\n",
    "df_original[0:0].to_sql('samples', con=engine)\n",
    "engine.execute(\"SELECT * FROM samples LIMIT 3\").fetchall()\n",
    "\n",
    "\n"
   ]
  },
  {
   "cell_type": "code",
   "execution_count": null,
   "metadata": {},
   "outputs": [],
   "source": [
    "df_original[0:1].to_sql('samples', con=engine, if_exists='append')\n",
    "engine.execute(\"SELECT * FROM samples LIMIT 3\").fetchall()\n",
    "\n"
   ]
  },
  {
   "cell_type": "code",
   "execution_count": null,
   "metadata": {},
   "outputs": [],
   "source": [
    "engine.execute(\"DROP TABLE SAMPLES\")"
   ]
  },
  {
   "cell_type": "code",
   "execution_count": null,
   "metadata": {},
   "outputs": [],
   "source": [
    "g = np.array([1,3,10,22,4])\n",
    "f = np.array([a<10 for a in g])\n",
    "g[f]\n",
    "\n",
    "\n"
   ]
  },
  {
   "cell_type": "code",
   "execution_count": null,
   "metadata": {},
   "outputs": [],
   "source": [
    "3 < 5 : 'a' ? 'b'"
   ]
  },
  {
   "cell_type": "code",
   "execution_count": null,
   "metadata": {},
   "outputs": [],
   "source": [
    "'a' if 3 > 2 else \"pass\""
   ]
  },
  {
   "cell_type": "code",
   "execution_count": null,
   "metadata": {},
   "outputs": [],
   "source": [
    "rows, columns = df.shape\n",
    "rows"
   ]
  },
  {
   "cell_type": "code",
   "execution_count": null,
   "metadata": {},
   "outputs": [],
   "source": []
  }
 ],
 "metadata": {
  "kernelspec": {
   "display_name": "Python 3",
   "language": "python",
   "name": "python3"
  },
  "language_info": {
   "codemirror_mode": {
    "name": "ipython",
    "version": 3
   },
   "file_extension": ".py",
   "mimetype": "text/x-python",
   "name": "python",
   "nbconvert_exporter": "python",
   "pygments_lexer": "ipython3",
   "version": "3.7.3"
  }
 },
 "nbformat": 4,
 "nbformat_minor": 2
}
