{
 "cells": [
  {
   "cell_type": "code",
   "execution_count": 1,
   "metadata": {},
   "outputs": [],
   "source": [
    "import pandas as pd\n",
    "from sklearn.linear_model import SGDClassifier\n",
    "from sklearn.preprocessing import StandardScaler, normalize\n",
    "from sklearn.preprocessing import LabelEncoder\n",
    "from sklearn.model_selection import train_test_split\n",
    "from sklearn.metrics import confusion_matrix, classification_report, accuracy_score, balanced_accuracy_score\n",
    "import collections\n",
    "import pickle\n",
    "from datetime import datetime"
   ]
  },
  {
   "cell_type": "code",
   "execution_count": 2,
   "metadata": {},
   "outputs": [],
   "source": [
    "df = pd.read_csv(f\"/home/marcin/PycharmProjects/Engineering_Thesis/data_provider/data/CriteoSearchData-sorted-no-duplicates-LabelEncoded.csv\"\n",
    "                 ,sep=','\n",
    "                ,nrows=1000000\n",
    "#                 ,skiprows=range(1,2000000)\n",
    "                )"
   ]
  },
  {
   "cell_type": "code",
   "execution_count": 3,
   "metadata": {},
   "outputs": [],
   "source": [
    "df = df.rename(columns={'Sale':'sale','SalesAmountInEuro':'sales_amount_in_euro'})"
   ]
  },
  {
   "cell_type": "code",
   "execution_count": 4,
   "metadata": {},
   "outputs": [
    {
     "data": {
      "text/html": [
       "<div>\n",
       "<style scoped>\n",
       "    .dataframe tbody tr th:only-of-type {\n",
       "        vertical-align: middle;\n",
       "    }\n",
       "\n",
       "    .dataframe tbody tr th {\n",
       "        vertical-align: top;\n",
       "    }\n",
       "\n",
       "    .dataframe thead th {\n",
       "        text-align: right;\n",
       "    }\n",
       "</style>\n",
       "<table border=\"1\" class=\"dataframe\">\n",
       "  <thead>\n",
       "    <tr style=\"text-align: right;\">\n",
       "      <th></th>\n",
       "      <th>sale</th>\n",
       "      <th>sales_amount_in_euro</th>\n",
       "      <th>time_delay_for_conversion</th>\n",
       "      <th>click_timestamp</th>\n",
       "      <th>nb_clicks_1week</th>\n",
       "      <th>product_price</th>\n",
       "      <th>product_age_group</th>\n",
       "      <th>device_type</th>\n",
       "      <th>audience_id</th>\n",
       "      <th>product_gender</th>\n",
       "      <th>...</th>\n",
       "      <th>product_category_3</th>\n",
       "      <th>product_category_4</th>\n",
       "      <th>product_category_5</th>\n",
       "      <th>product_category_6</th>\n",
       "      <th>product_category_7</th>\n",
       "      <th>product_country</th>\n",
       "      <th>product_id</th>\n",
       "      <th>product_title</th>\n",
       "      <th>partner_id</th>\n",
       "      <th>user_id</th>\n",
       "    </tr>\n",
       "  </thead>\n",
       "  <tbody>\n",
       "    <tr>\n",
       "      <th>0</th>\n",
       "      <td>0</td>\n",
       "      <td>-1.00000</td>\n",
       "      <td>-1</td>\n",
       "      <td>1596439471</td>\n",
       "      <td>0</td>\n",
       "      <td>0.00</td>\n",
       "      <td>4</td>\n",
       "      <td>7</td>\n",
       "      <td>9599</td>\n",
       "      <td>13</td>\n",
       "      <td>...</td>\n",
       "      <td>609</td>\n",
       "      <td>0</td>\n",
       "      <td>0</td>\n",
       "      <td>0</td>\n",
       "      <td>0</td>\n",
       "      <td>4</td>\n",
       "      <td>1427874</td>\n",
       "      <td>392409</td>\n",
       "      <td>271</td>\n",
       "      <td>8019615</td>\n",
       "    </tr>\n",
       "    <tr>\n",
       "      <th>1</th>\n",
       "      <td>0</td>\n",
       "      <td>-1.00000</td>\n",
       "      <td>-1</td>\n",
       "      <td>1596439471</td>\n",
       "      <td>320</td>\n",
       "      <td>0.00</td>\n",
       "      <td>0</td>\n",
       "      <td>3</td>\n",
       "      <td>0</td>\n",
       "      <td>0</td>\n",
       "      <td>...</td>\n",
       "      <td>12</td>\n",
       "      <td>343</td>\n",
       "      <td>0</td>\n",
       "      <td>0</td>\n",
       "      <td>0</td>\n",
       "      <td>10</td>\n",
       "      <td>1541638</td>\n",
       "      <td>375251</td>\n",
       "      <td>130</td>\n",
       "      <td>6209670</td>\n",
       "    </tr>\n",
       "    <tr>\n",
       "      <th>2</th>\n",
       "      <td>1</td>\n",
       "      <td>21.24097</td>\n",
       "      <td>965274</td>\n",
       "      <td>1596439471</td>\n",
       "      <td>0</td>\n",
       "      <td>24.99</td>\n",
       "      <td>4</td>\n",
       "      <td>7</td>\n",
       "      <td>0</td>\n",
       "      <td>2</td>\n",
       "      <td>...</td>\n",
       "      <td>0</td>\n",
       "      <td>0</td>\n",
       "      <td>0</td>\n",
       "      <td>0</td>\n",
       "      <td>0</td>\n",
       "      <td>4</td>\n",
       "      <td>1571314</td>\n",
       "      <td>582135</td>\n",
       "      <td>171</td>\n",
       "      <td>8849725</td>\n",
       "    </tr>\n",
       "  </tbody>\n",
       "</table>\n",
       "<p>3 rows × 23 columns</p>\n",
       "</div>"
      ],
      "text/plain": [
       "   sale  sales_amount_in_euro  time_delay_for_conversion  click_timestamp  \\\n",
       "0     0              -1.00000                         -1       1596439471   \n",
       "1     0              -1.00000                         -1       1596439471   \n",
       "2     1              21.24097                     965274       1596439471   \n",
       "\n",
       "   nb_clicks_1week  product_price  product_age_group  device_type  \\\n",
       "0                0           0.00                  4            7   \n",
       "1              320           0.00                  0            3   \n",
       "2                0          24.99                  4            7   \n",
       "\n",
       "   audience_id  product_gender  ...  product_category_3  product_category_4  \\\n",
       "0         9599              13  ...                 609                   0   \n",
       "1            0               0  ...                  12                 343   \n",
       "2            0               2  ...                   0                   0   \n",
       "\n",
       "   product_category_5  product_category_6  product_category_7  \\\n",
       "0                   0                   0                   0   \n",
       "1                   0                   0                   0   \n",
       "2                   0                   0                   0   \n",
       "\n",
       "   product_country  product_id  product_title  partner_id  user_id  \n",
       "0                4     1427874         392409         271  8019615  \n",
       "1               10     1541638         375251         130  6209670  \n",
       "2                4     1571314         582135         171  8849725  \n",
       "\n",
       "[3 rows x 23 columns]"
      ]
     },
     "execution_count": 4,
     "metadata": {},
     "output_type": "execute_result"
    }
   ],
   "source": [
    "df[:3]"
   ]
  },
  {
   "cell_type": "code",
   "execution_count": 119,
   "metadata": {},
   "outputs": [],
   "source": [
    "# def convert_timestamp(df):\n",
    "#     temp = datetime.fromtimestamp(df['click_timestamp'])\n",
    "#     df['year'] = temp.year\n",
    "#     df['month'] = temp.month\n",
    "#     df['day'] = temp.day\n",
    "#     df['hour'] = temp.hour\n",
    "#     return df\n",
    "\n",
    "# df = df.apply(convert_timestamp, axis=1)\n",
    "# df = df.drop(columns=['click_timestamp'], axis=1)"
   ]
  },
  {
   "cell_type": "code",
   "execution_count": 120,
   "metadata": {},
   "outputs": [
    {
     "data": {
      "text/html": [
       "<div>\n",
       "<style scoped>\n",
       "    .dataframe tbody tr th:only-of-type {\n",
       "        vertical-align: middle;\n",
       "    }\n",
       "\n",
       "    .dataframe tbody tr th {\n",
       "        vertical-align: top;\n",
       "    }\n",
       "\n",
       "    .dataframe thead th {\n",
       "        text-align: right;\n",
       "    }\n",
       "</style>\n",
       "<table border=\"1\" class=\"dataframe\">\n",
       "  <thead>\n",
       "    <tr style=\"text-align: right;\">\n",
       "      <th></th>\n",
       "      <th>sale</th>\n",
       "      <th>sales_amount_in_euro</th>\n",
       "      <th>time_delay_for_conversion</th>\n",
       "      <th>nb_clicks_1week</th>\n",
       "      <th>product_price</th>\n",
       "      <th>product_age_group</th>\n",
       "      <th>device_type</th>\n",
       "      <th>audience_id</th>\n",
       "      <th>product_gender</th>\n",
       "      <th>product_brand</th>\n",
       "      <th>...</th>\n",
       "      <th>product_category_7</th>\n",
       "      <th>product_country</th>\n",
       "      <th>product_id</th>\n",
       "      <th>product_title</th>\n",
       "      <th>partner_id</th>\n",
       "      <th>user_id</th>\n",
       "      <th>year</th>\n",
       "      <th>month</th>\n",
       "      <th>day</th>\n",
       "      <th>hour</th>\n",
       "    </tr>\n",
       "  </thead>\n",
       "  <tbody>\n",
       "    <tr>\n",
       "      <th>0</th>\n",
       "      <td>0.0</td>\n",
       "      <td>-1.00000</td>\n",
       "      <td>-1.0</td>\n",
       "      <td>0.0</td>\n",
       "      <td>0.00</td>\n",
       "      <td>4.0</td>\n",
       "      <td>7.0</td>\n",
       "      <td>9599.0</td>\n",
       "      <td>13.0</td>\n",
       "      <td>48223.0</td>\n",
       "      <td>...</td>\n",
       "      <td>0.0</td>\n",
       "      <td>4.0</td>\n",
       "      <td>1427874.0</td>\n",
       "      <td>392409.0</td>\n",
       "      <td>271.0</td>\n",
       "      <td>8019615.0</td>\n",
       "      <td>2020.0</td>\n",
       "      <td>8.0</td>\n",
       "      <td>3.0</td>\n",
       "      <td>9.0</td>\n",
       "    </tr>\n",
       "    <tr>\n",
       "      <th>1</th>\n",
       "      <td>0.0</td>\n",
       "      <td>-1.00000</td>\n",
       "      <td>-1.0</td>\n",
       "      <td>320.0</td>\n",
       "      <td>0.00</td>\n",
       "      <td>0.0</td>\n",
       "      <td>3.0</td>\n",
       "      <td>0.0</td>\n",
       "      <td>0.0</td>\n",
       "      <td>38885.0</td>\n",
       "      <td>...</td>\n",
       "      <td>0.0</td>\n",
       "      <td>10.0</td>\n",
       "      <td>1541638.0</td>\n",
       "      <td>375251.0</td>\n",
       "      <td>130.0</td>\n",
       "      <td>6209670.0</td>\n",
       "      <td>2020.0</td>\n",
       "      <td>8.0</td>\n",
       "      <td>3.0</td>\n",
       "      <td>9.0</td>\n",
       "    </tr>\n",
       "    <tr>\n",
       "      <th>2</th>\n",
       "      <td>1.0</td>\n",
       "      <td>21.24097</td>\n",
       "      <td>965274.0</td>\n",
       "      <td>0.0</td>\n",
       "      <td>24.99</td>\n",
       "      <td>4.0</td>\n",
       "      <td>7.0</td>\n",
       "      <td>0.0</td>\n",
       "      <td>2.0</td>\n",
       "      <td>54532.0</td>\n",
       "      <td>...</td>\n",
       "      <td>0.0</td>\n",
       "      <td>4.0</td>\n",
       "      <td>1571314.0</td>\n",
       "      <td>582135.0</td>\n",
       "      <td>171.0</td>\n",
       "      <td>8849725.0</td>\n",
       "      <td>2020.0</td>\n",
       "      <td>8.0</td>\n",
       "      <td>3.0</td>\n",
       "      <td>9.0</td>\n",
       "    </tr>\n",
       "  </tbody>\n",
       "</table>\n",
       "<p>3 rows × 26 columns</p>\n",
       "</div>"
      ],
      "text/plain": [
       "   sale  sales_amount_in_euro  time_delay_for_conversion  nb_clicks_1week  \\\n",
       "0   0.0              -1.00000                       -1.0              0.0   \n",
       "1   0.0              -1.00000                       -1.0            320.0   \n",
       "2   1.0              21.24097                   965274.0              0.0   \n",
       "\n",
       "   product_price  product_age_group  device_type  audience_id  product_gender  \\\n",
       "0           0.00                4.0          7.0       9599.0            13.0   \n",
       "1           0.00                0.0          3.0          0.0             0.0   \n",
       "2          24.99                4.0          7.0          0.0             2.0   \n",
       "\n",
       "   product_brand  ...  product_category_7  product_country  product_id  \\\n",
       "0        48223.0  ...                 0.0              4.0   1427874.0   \n",
       "1        38885.0  ...                 0.0             10.0   1541638.0   \n",
       "2        54532.0  ...                 0.0              4.0   1571314.0   \n",
       "\n",
       "   product_title  partner_id    user_id    year  month  day  hour  \n",
       "0       392409.0       271.0  8019615.0  2020.0    8.0  3.0   9.0  \n",
       "1       375251.0       130.0  6209670.0  2020.0    8.0  3.0   9.0  \n",
       "2       582135.0       171.0  8849725.0  2020.0    8.0  3.0   9.0  \n",
       "\n",
       "[3 rows x 26 columns]"
      ]
     },
     "execution_count": 120,
     "metadata": {},
     "output_type": "execute_result"
    }
   ],
   "source": [
    "df[:3]"
   ]
  },
  {
   "cell_type": "code",
   "execution_count": 121,
   "metadata": {},
   "outputs": [],
   "source": [
    "# names_of_columns_with_ids = ['audience_id', 'device_type',\n",
    "#        'partner_id', 'product_age_group', 'product_brand',\n",
    "#        'product_category_1', 'product_category_2', 'product_category_3',\n",
    "#        'product_category_4', 'product_category_5', 'product_category_6',\n",
    "#        'product_category_7', 'product_country', 'product_gender', 'product_id',\n",
    "#        'product_title', 'user_id']"
   ]
  },
  {
   "cell_type": "code",
   "execution_count": 122,
   "metadata": {},
   "outputs": [],
   "source": [
    "# utworzenia słownika LabelEncoders dla całego zbioru danych\n",
    "# LabelEncoders_dict = collections.defaultdict(LabelEncoder)\n",
    "\n",
    "\n",
    "# df[names_of_columns_with_ids] = df[names_of_columns_with_ids].astype(str)\n",
    "# # Encoding the variable\n",
    "# df[names_of_columns_with_ids] = df[names_of_columns_with_ids].apply(lambda x: LabelEncoders_dict[x.name].fit_transform(x))"
   ]
  },
  {
   "cell_type": "code",
   "execution_count": 123,
   "metadata": {},
   "outputs": [],
   "source": [
    "# file = open(\n",
    "#     f\"/home/marcin/PycharmProjects/Engineering_Thesis/build_and_update_model_server/LabelEncoders_dict2.pickle\",\n",
    "#     \"wb\")\n",
    "# LabelEncoders_dict = pickle.load(file)"
   ]
  },
  {
   "cell_type": "code",
   "execution_count": 124,
   "metadata": {},
   "outputs": [],
   "source": [
    "# file = open(\n",
    "#     f\"/home/marcin/PycharmProjects/Engineering_Thesis/build_and_update_model_server/LabelEncoders_dict2.pickle\",\n",
    "#     \"rb\")\n",
    "# LabelEncoders_dict = pickle.load(file)"
   ]
  },
  {
   "cell_type": "code",
   "execution_count": 6,
   "metadata": {},
   "outputs": [],
   "source": [
    "def first_model(x_train, y_train):\n",
    "#     df[names_of_columns_with_ids] = df[names_of_columns_with_ids].astype(str)\n",
    "#     df[names_of_columns_with_ids] = df[names_of_columns_with_ids].apply(lambda x: LabelEncoders_dict[x.name].transform(x))\n",
    "#     df[names_of_columns_with_ids] = df[names_of_columns_with_ids].apply(LabelEncoder().fit_transform)\n",
    "\n",
    "    \n",
    "    X_train, X_test, y_train, y_test = train_test_split(x_train, \n",
    "                                                    y_train,\n",
    "                                                    test_size=0.2,\n",
    "                                                    random_state=0)\n",
    "    number_of_samples = len(y_train)\n",
    "    counter = collections.Counter(y_train)\n",
    "    percent_of_ones = counter[1]/number_of_samples\n",
    "\n",
    "    model =  SGDClassifier(loss='log', random_state=1, tol=1e-3, max_iter=1000, penalty='l1', alpha=1e-05, n_jobs=-1, class_weight={0:percent_of_ones, 1:1-percent_of_ones})\n",
    "    model.fit(X_train, y_train)\n",
    "    \n",
    "    y_pred = model.predict(X_test)\n",
    "    \n",
    "\n",
    "    print(collections.Counter(y_test))\n",
    "    print(collections.Counter(y_pred))\n",
    "\n",
    "    print('balanced_accuracy_score: {0}'.format(balanced_accuracy_score(y_test, y_pred)))\n",
    "    print('accuracy_score: {0}'.format(accuracy_score(y_test, y_pred)))\n",
    "    print('Nieprawidłowo sklasyfikowane próbki: %d' % (y_test != y_pred).sum())\n",
    "    print('classification_report :\\n', classification_report(y_test, y_pred))\n",
    "    confmat = confusion_matrix(y_true=y_test, y_pred=y_pred)\n",
    "    print(confmat)\n",
    "    \n",
    "    return model, X_test, y_test\n",
    "    "
   ]
  },
  {
   "cell_type": "code",
   "execution_count": 7,
   "metadata": {},
   "outputs": [],
   "source": [
    "def next_models(model, df, LabelEncoders_dict, X_test, y_test):\n",
    "    df[names_of_columns_with_ids] = df[names_of_columns_with_ids].astype(str)\n",
    "    df[names_of_columns_with_ids] = df[names_of_columns_with_ids].apply(lambda x: LabelEncoders_dict[x.name].transform(x))\n",
    "    \n",
    "    \n",
    "    model = model.partial_fit(df.loc[:,df.columns != 'sale'], df['sale'])\n",
    "    \n",
    "    y_pred = model.predict(X_test)\n",
    "\n",
    "    print(collections.Counter(y_test))\n",
    "    print(collections.Counter(y_pred))\n",
    "\n",
    "    print('balanced_accuracy_score: {0}'.format(balanced_accuracy_score(y_test, y_pred)))\n",
    "    print('accuracy_score: {0}'.format(accuracy_score(y_test, y_pred)))\n",
    "    print('Nieprawidłowo sklasyfikowane próbki: %d' % (y_test != y_pred).sum())\n",
    "    print('classification_report :\\n', classification_report(y_test, y_pred))\n",
    "    confmat = confusion_matrix(y_true=y_test, y_pred=y_pred)\n",
    "    print(confmat)\n",
    "    return model"
   ]
  },
  {
   "cell_type": "code",
   "execution_count": 8,
   "metadata": {},
   "outputs": [
    {
     "name": "stdout",
     "output_type": "stream",
     "text": [
      "PIERWSZY MODEL\n",
      "Counter({0: 175965, 1: 24035})\n",
      "Counter({0: 187927, 1: 12073})\n",
      "balanced_accuracy_score: 0.7511545662575411\n",
      "accuracy_score: 0.94019\n",
      "Nieprawidłowo sklasyfikowane próbki: 11962\n",
      "classification_report :\n",
      "               precision    recall  f1-score   support\n",
      "\n",
      "           0       0.94      1.00      0.97    175965\n",
      "           1       1.00      0.50      0.67     24035\n",
      "\n",
      "    accuracy                           0.94    200000\n",
      "   macro avg       0.97      0.75      0.82    200000\n",
      "weighted avg       0.94      0.94      0.93    200000\n",
      "\n",
      "[[175965      0]\n",
      " [ 11962  12073]]\n"
     ]
    }
   ],
   "source": [
    "print(\"PIERWSZY MODEL\")\n",
    "x_train = df.loc[:,~df.columns.isin(['sale'])]\n",
    "y_train = df['sale']\n",
    "model, X_test, y_test = first_model(x_train, y_train)"
   ]
  },
  {
   "cell_type": "code",
   "execution_count": 66,
   "metadata": {
    "scrolled": true
   },
   "outputs": [
    {
     "name": "stdout",
     "output_type": "stream",
     "text": [
      "PIERWSZY MODEL\n",
      "Counter({0: 175965, 1: 24035})\n",
      "Counter({0: 193121, 1: 6879})\n",
      "balanced_accuracy_score: 0.5390681398802813\n",
      "accuracy_score: 0.87022\n",
      "Nieprawidłowo sklasyfikowane próbki: 25956\n",
      "classification_report :\n",
      "               precision    recall  f1-score   support\n",
      "\n",
      "           0       0.89      0.97      0.93    175965\n",
      "           1       0.36      0.10      0.16     24035\n",
      "\n",
      "    accuracy                           0.87    200000\n",
      "   macro avg       0.62      0.54      0.55    200000\n",
      "weighted avg       0.82      0.87      0.84    200000\n",
      "\n",
      "[[171565   4400]\n",
      " [ 21556   2479]]\n"
     ]
    }
   ],
   "source": [
    "print(\"PIERWSZY MODEL\")\n",
    "model, X_test, y_test = first_model(x_train, y_train)\n",
    "\n",
    "\n",
    "# for i in range(1, 8):\n",
    "#     print(\"=========================================\")\n",
    "#     print(\"MODEL NUMER: \", i+1)\n",
    "#     df2 = pd.read_csv(f\"/home/marcin/PycharmProjects/Engineering_Thesis/data_provider/data/CriteoSearchData-sorted-no-duplicates.csv\"\"\n",
    "#                  ,sep='\\t'\n",
    "#                 ,nrows=1000000\n",
    "#                 ,skiprows=range(1, 2000000*i)\n",
    "#                 )\n",
    "#     model = next_models(model, df2, LabelEncoders_dict, X_test, y_test)\n"
   ]
  },
  {
   "cell_type": "code",
   "execution_count": 10,
   "metadata": {},
   "outputs": [],
   "source": [
    "df3 = pd.read_csv(f\"/home/marcin/PycharmProjects/Engineering_Thesis/data_provider/data/CriteoSearchData-sorted-no-duplicates-LabelEncoded.csv\"\n",
    "                 ,sep=','\n",
    "                ,nrows=1000000\n",
    "                ,skiprows=range(1,2000000)\n",
    "                )"
   ]
  },
  {
   "cell_type": "code",
   "execution_count": 52,
   "metadata": {},
   "outputs": [],
   "source": [
    "df3 = df3.rename(columns={'Sale':'sale','SalesAmountInEuro':'sales_amount_in_euro'})"
   ]
  },
  {
   "cell_type": "code",
   "execution_count": 24,
   "metadata": {},
   "outputs": [
    {
     "name": "stdout",
     "output_type": "stream",
     "text": [
      "2.4056472778320312\n"
     ]
    }
   ],
   "source": [
    "import json\n",
    "import time\n",
    "\n",
    "s = time.time()\n",
    "for id, row in df[:10000].iterrows():\n",
    "    sample_json = row.to_json()\n",
    "#     s = time.time()\n",
    "    sample_dict = json.loads(sample_json)    \n",
    "    sample_dict_result = sample_dict.copy()\n",
    "    sample_dict.pop('sale', None)\n",
    "    probabilities = model.predict_proba([list(sample_dict.values())])[0].ravel()\n",
    "    if probabilities[0] > probabilities[1]:\n",
    "        sample_dict_result['predicted'] = 0\n",
    "    else:\n",
    "        sample_dict_result['predicted'] = 1\n",
    "        \n",
    "    sample_dict_result['probabilities'] = json.dumps(list(probabilities))\n",
    "#     model.predict([list(sample_dict.values())])\n",
    "\n",
    "#     print(time.time()-s)\n",
    "#     break\n",
    "    \n",
    "print(time.time()-s)\n"
   ]
  },
  {
   "cell_type": "code",
   "execution_count": null,
   "metadata": {},
   "outputs": [],
   "source": [
    "df2 = pd.read_csv(f\"/home/marcin/PycharmProjects/Engineering_Thesis/data_provider/data/CriteoSearchData-sorted-no-duplicates.csv\"\n",
    "             ,sep='\\t'\n",
    "             ,nrows=1000\n",
    "            )\n",
    "df2[names_of_columns_with_ids] = df2[names_of_columns_with_ids].astype(str)\n",
    "s2 = time.time()\n",
    "for index, value in LabelEncoders_dict.items():\n",
    "    s = time.time()\n",
    "    LabelEncoders_dict[index].transform(df2[index])\n",
    "    print(index)\n",
    "    print(time.time()-s)\n",
    "print(time.time()-s2)"
   ]
  },
  {
   "cell_type": "code",
   "execution_count": null,
   "metadata": {},
   "outputs": [],
   "source": []
  },
  {
   "cell_type": "code",
   "execution_count": null,
   "metadata": {},
   "outputs": [],
   "source": [
    "df['product_category(7)'] = df['product_category(7)'].astype(str)\n",
    "df['product_title'] = df['product_title'].astype(str)"
   ]
  },
  {
   "cell_type": "code",
   "execution_count": null,
   "metadata": {},
   "outputs": [],
   "source": [
    "df.iloc[:,6:] = df.iloc[:,6:].apply(LabelEncoder().fit_transform)\n",
    "df[:3]"
   ]
  },
  {
   "cell_type": "code",
   "execution_count": null,
   "metadata": {},
   "outputs": [],
   "source": [
    "X_train, X_test, y_train, y_test = train_test_split(df.iloc[:,1:], \n",
    "                                                    df['Sale'],\n",
    "                                                    test_size=0.2,\n",
    "                                                    random_state=0)"
   ]
  },
  {
   "cell_type": "code",
   "execution_count": null,
   "metadata": {},
   "outputs": [],
   "source": [
    "number_of_samples = len(y_train)\n",
    "counter = collections.Counter(y_train)\n",
    "percent_of_ones = counter[1]/number_of_samples\n",
    "percent_of_ones"
   ]
  },
  {
   "cell_type": "code",
   "execution_count": null,
   "metadata": {},
   "outputs": [],
   "source": [
    "# model =  SGDClassifier(loss='log', random_state=1, tol=1e-3, max_iter=1000, penalty='l1', alpha=1e-05, n_jobs=-1)\n",
    "model =  SGDClassifier(loss='log', random_state=1, tol=1e-3, max_iter=1000, penalty='l1', alpha=1e-05, n_jobs=-1, class_weight={0:percent_of_ones, 1:1-percent_of_ones})\n",
    "model.fit(X_train, y_train)"
   ]
  },
  {
   "cell_type": "code",
   "execution_count": null,
   "metadata": {},
   "outputs": [],
   "source": [
    "y_pred = model.predict(X_test)"
   ]
  },
  {
   "cell_type": "code",
   "execution_count": null,
   "metadata": {},
   "outputs": [],
   "source": [
    "from sklearn.metrics import confusion_matrix, classification_report, accuracy_score, balanced_accuracy_score\n",
    "import collections\n",
    "print(collections.Counter(y_test))\n",
    "print(collections.Counter(y_pred))\n",
    "\n",
    "print('balanced_accuracy_score: {0}'.format(balanced_accuracy_score(y_test, y_pred)))\n",
    "print('accuracy_score: {0}'.format(accuracy_score(y_test, y_pred)))\n",
    "print('Nieprawidłowo sklasyfikowane próbki: %d' % (y_test != y_pred).sum())\n",
    "print('classification_report :\\n', classification_report(y_test, y_pred))\n",
    "confmat = confusion_matrix(y_true=y_test, y_pred=y_pred)\n",
    "print(confmat)"
   ]
  },
  {
   "cell_type": "code",
   "execution_count": null,
   "metadata": {},
   "outputs": [],
   "source": []
  }
 ],
 "metadata": {
  "kernelspec": {
   "display_name": "Python 3",
   "language": "python",
   "name": "python3"
  },
  "language_info": {
   "codemirror_mode": {
    "name": "ipython",
    "version": 3
   },
   "file_extension": ".py",
   "mimetype": "text/x-python",
   "name": "python",
   "nbconvert_exporter": "python",
   "pygments_lexer": "ipython3",
   "version": "3.7.3"
  },
  "pycharm": {
   "stem_cell": {
    "cell_type": "raw",
    "metadata": {
     "collapsed": false
    },
    "source": []
   }
  }
 },
 "nbformat": 4,
 "nbformat_minor": 2
}
