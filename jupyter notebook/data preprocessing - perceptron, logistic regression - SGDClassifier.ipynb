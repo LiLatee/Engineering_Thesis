{
 "cells": [
  {
   "cell_type": "code",
   "execution_count": 1,
   "metadata": {},
   "outputs": [],
   "source": [
    "import pandas as pd\n",
    "import numpy as np\n",
    "headers = ['Sale','SalesAmountInEuro','time_delay_for_conversion','click_timestamp','nb_clicks_1week','product_price' ,'product_age_group' ,'device_type','audience_id' ,'product_gender' ,'product_brand' ,'product_category(1)', 'product_category(2)', 'product_category(3)', 'product_category(4)', 'product_category(5)', 'product_category(6)', 'product_category(7)', 'product_country', 'product_id' ,'product_title' ,'partner_id' ,'user_id']\n",
    "df_original = pd.read_csv('D:\\Projekty\\Engineering_Thesis\\Dataset\\Criteo_Conversion_Search\\CriteoSearchData-sorted.csv',\n",
    "                 sep='\\t',\n",
    "                 nrows=10000,\n",
    "                 names=headers,\n",
    "                 low_memory=False,\n",
    "                 usecols=[0,1,2,3,4,5,6,7,8,9,10,11,12,13,14,15,16,17,18,19,20,21,22])\n",
    "# df_original = df_original.sort(column='click_timestamp', ascending=True)\n",
    "# df_original.iloc[:10,:]\n",
    "lst = [df_original]"
   ]
  },
  {
   "cell_type": "code",
   "execution_count": 2,
   "metadata": {},
   "outputs": [
    {
     "data": {
      "text/html": [
       "<div>\n",
       "<style scoped>\n",
       "    .dataframe tbody tr th:only-of-type {\n",
       "        vertical-align: middle;\n",
       "    }\n",
       "\n",
       "    .dataframe tbody tr th {\n",
       "        vertical-align: top;\n",
       "    }\n",
       "\n",
       "    .dataframe thead th {\n",
       "        text-align: right;\n",
       "    }\n",
       "</style>\n",
       "<table border=\"1\" class=\"dataframe\">\n",
       "  <thead>\n",
       "    <tr style=\"text-align: right;\">\n",
       "      <th></th>\n",
       "      <th>Sale</th>\n",
       "      <th>SalesAmountInEuro</th>\n",
       "      <th>time_delay_for_conversion</th>\n",
       "      <th>click_timestamp</th>\n",
       "      <th>nb_clicks_1week</th>\n",
       "      <th>product_price</th>\n",
       "      <th>product_age_group</th>\n",
       "      <th>device_type</th>\n",
       "      <th>audience_id</th>\n",
       "      <th>product_gender</th>\n",
       "      <th>...</th>\n",
       "      <th>product_category(3)</th>\n",
       "      <th>product_category(4)</th>\n",
       "      <th>product_category(5)</th>\n",
       "      <th>product_category(6)</th>\n",
       "      <th>product_category(7)</th>\n",
       "      <th>product_country</th>\n",
       "      <th>product_id</th>\n",
       "      <th>product_title</th>\n",
       "      <th>partner_id</th>\n",
       "      <th>user_id</th>\n",
       "    </tr>\n",
       "  </thead>\n",
       "  <tbody>\n",
       "    <tr>\n",
       "      <th>0</th>\n",
       "      <td>Sale</td>\n",
       "      <td>SalesAmountInEuro</td>\n",
       "      <td>time_delay_for_conversion</td>\n",
       "      <td>click_timestamp</td>\n",
       "      <td>nb_clicks_1week</td>\n",
       "      <td>product_price</td>\n",
       "      <td>product_age_group</td>\n",
       "      <td>device_type</td>\n",
       "      <td>audience_id</td>\n",
       "      <td>product_gender</td>\n",
       "      <td>...</td>\n",
       "      <td>product_category(3)</td>\n",
       "      <td>product_category(4)</td>\n",
       "      <td>product_category(5)</td>\n",
       "      <td>product_category(6)</td>\n",
       "      <td>product_category(7)</td>\n",
       "      <td>product_country</td>\n",
       "      <td>product_id</td>\n",
       "      <td>product_title</td>\n",
       "      <td>partner_id</td>\n",
       "      <td>user_id</td>\n",
       "    </tr>\n",
       "    <tr>\n",
       "      <th>1</th>\n",
       "      <td>0</td>\n",
       "      <td>-1.0</td>\n",
       "      <td>-1</td>\n",
       "      <td>1596439471</td>\n",
       "      <td>0</td>\n",
       "      <td>0.0</td>\n",
       "      <td>4C90FD52FC53D2C1C205844CB69575AB</td>\n",
       "      <td>D7D1FB49049702BF6338894757E0D959</td>\n",
       "      <td>865A11AEC419E0B83637E01693CA6534</td>\n",
       "      <td>A5D15FC386510762EC0DDFF54ABE6F94</td>\n",
       "      <td>...</td>\n",
       "      <td>925C269ABCB1ABD1B1404E9AF9BAC32C</td>\n",
       "      <td>-1</td>\n",
       "      <td>-1</td>\n",
       "      <td>-1</td>\n",
       "      <td>-1</td>\n",
       "      <td>2AC62132FBCFA093B9426894A4BC6278</td>\n",
       "      <td>E0B8A58942AD00411F94DC480E187E64</td>\n",
       "      <td>79FB52BC086F410AFFD19B69426DF923 7FE78A2301139...</td>\n",
       "      <td>DE8AF4DB950D7A4F844B744FA402C4A8</td>\n",
       "      <td>95C3CF40CFEFD9DEF99995CD90A23D42</td>\n",
       "    </tr>\n",
       "    <tr>\n",
       "      <th>2</th>\n",
       "      <td>0</td>\n",
       "      <td>-1.0</td>\n",
       "      <td>-1</td>\n",
       "      <td>1596439471</td>\n",
       "      <td>320</td>\n",
       "      <td>0.0</td>\n",
       "      <td>-1</td>\n",
       "      <td>7E56C27BFF0305E788DA55A029EC4988</td>\n",
       "      <td>-1</td>\n",
       "      <td>-1</td>\n",
       "      <td>...</td>\n",
       "      <td>0279CBF3081FFB710CE52B9E0BA4AABF</td>\n",
       "      <td>35A13FB2AB63E920B7D71C5957131606</td>\n",
       "      <td>-1</td>\n",
       "      <td>-1</td>\n",
       "      <td>-1</td>\n",
       "      <td>989EEF92F2A525DD896557425EA7C4C7</td>\n",
       "      <td>F29147A240F4B1945EBAC85159AB9A56</td>\n",
       "      <td>7490FDD3B232D01748AB294BCA9854D0 25887A6625AAD...</td>\n",
       "      <td>6BFFDE668C5BC3938C875D3D0940E699</td>\n",
       "      <td>73F7922D0081EE864EABA4EFED7817EF</td>\n",
       "    </tr>\n",
       "    <tr>\n",
       "      <th>3</th>\n",
       "      <td>1</td>\n",
       "      <td>21.24097</td>\n",
       "      <td>965274</td>\n",
       "      <td>1596439471</td>\n",
       "      <td>0</td>\n",
       "      <td>24.99</td>\n",
       "      <td>4C90FD52FC53D2C1C205844CB69575AB</td>\n",
       "      <td>D7D1FB49049702BF6338894757E0D959</td>\n",
       "      <td>-1</td>\n",
       "      <td>1B491180398E2F0390E6A588B3BCE291</td>\n",
       "      <td>...</td>\n",
       "      <td>-1</td>\n",
       "      <td>-1</td>\n",
       "      <td>-1</td>\n",
       "      <td>-1</td>\n",
       "      <td>-1</td>\n",
       "      <td>2AC62132FBCFA093B9426894A4BC6278</td>\n",
       "      <td>F73208C88398FDA9BD1522A4CA67F8B8</td>\n",
       "      <td>BA2580C036E251F1A4651A1DF94C7E3A 949A59B278D8B...</td>\n",
       "      <td>925829CF82DFDC74DE3F88F003CE7BEF</td>\n",
       "      <td>A546410581F20DC088ED664C6513ACB7</td>\n",
       "    </tr>\n",
       "    <tr>\n",
       "      <th>4</th>\n",
       "      <td>0</td>\n",
       "      <td>-1.0</td>\n",
       "      <td>-1</td>\n",
       "      <td>1596439472</td>\n",
       "      <td>428</td>\n",
       "      <td>0.0</td>\n",
       "      <td>4C90FD52FC53D2C1C205844CB69575AB</td>\n",
       "      <td>D7D1FB49049702BF6338894757E0D959</td>\n",
       "      <td>8087F618427981D8E4086F0CC657CA99</td>\n",
       "      <td>1B491180398E2F0390E6A588B3BCE291</td>\n",
       "      <td>...</td>\n",
       "      <td>FAE775DB79B7E40FB3E581B2755783A4</td>\n",
       "      <td>-1</td>\n",
       "      <td>-1</td>\n",
       "      <td>-1</td>\n",
       "      <td>-1</td>\n",
       "      <td>989EEF92F2A525DD896557425EA7C4C7</td>\n",
       "      <td>C0FD3010A8E54E0DA78EBE451FF28128</td>\n",
       "      <td>0AD77EF609C0582FBF99A1B6AC3E87A6 F6F4CBF56EBB5...</td>\n",
       "      <td>C38B671959ACFDA46C5129405124203E</td>\n",
       "      <td>34A21E0D4EA7F2AC06F9B7310BDAC770</td>\n",
       "    </tr>\n",
       "  </tbody>\n",
       "</table>\n",
       "<p>5 rows × 23 columns</p>\n",
       "</div>"
      ],
      "text/plain": [
       "   Sale  SalesAmountInEuro  time_delay_for_conversion  click_timestamp  \\\n",
       "0  Sale  SalesAmountInEuro  time_delay_for_conversion  click_timestamp   \n",
       "1     0               -1.0                         -1       1596439471   \n",
       "2     0               -1.0                         -1       1596439471   \n",
       "3     1           21.24097                     965274       1596439471   \n",
       "4     0               -1.0                         -1       1596439472   \n",
       "\n",
       "   nb_clicks_1week  product_price                 product_age_group  \\\n",
       "0  nb_clicks_1week  product_price                 product_age_group   \n",
       "1                0            0.0  4C90FD52FC53D2C1C205844CB69575AB   \n",
       "2              320            0.0                                -1   \n",
       "3                0          24.99  4C90FD52FC53D2C1C205844CB69575AB   \n",
       "4              428            0.0  4C90FD52FC53D2C1C205844CB69575AB   \n",
       "\n",
       "                        device_type                       audience_id  \\\n",
       "0                       device_type                       audience_id   \n",
       "1  D7D1FB49049702BF6338894757E0D959  865A11AEC419E0B83637E01693CA6534   \n",
       "2  7E56C27BFF0305E788DA55A029EC4988                                -1   \n",
       "3  D7D1FB49049702BF6338894757E0D959                                -1   \n",
       "4  D7D1FB49049702BF6338894757E0D959  8087F618427981D8E4086F0CC657CA99   \n",
       "\n",
       "                     product_gender  ...               product_category(3)  \\\n",
       "0                    product_gender  ...               product_category(3)   \n",
       "1  A5D15FC386510762EC0DDFF54ABE6F94  ...  925C269ABCB1ABD1B1404E9AF9BAC32C   \n",
       "2                                -1  ...  0279CBF3081FFB710CE52B9E0BA4AABF   \n",
       "3  1B491180398E2F0390E6A588B3BCE291  ...                                -1   \n",
       "4  1B491180398E2F0390E6A588B3BCE291  ...  FAE775DB79B7E40FB3E581B2755783A4   \n",
       "\n",
       "                product_category(4)  product_category(5)  product_category(6)  \\\n",
       "0               product_category(4)  product_category(5)  product_category(6)   \n",
       "1                                -1                   -1                   -1   \n",
       "2  35A13FB2AB63E920B7D71C5957131606                   -1                   -1   \n",
       "3                                -1                   -1                   -1   \n",
       "4                                -1                   -1                   -1   \n",
       "\n",
       "   product_category(7)                   product_country  \\\n",
       "0  product_category(7)                   product_country   \n",
       "1                   -1  2AC62132FBCFA093B9426894A4BC6278   \n",
       "2                   -1  989EEF92F2A525DD896557425EA7C4C7   \n",
       "3                   -1  2AC62132FBCFA093B9426894A4BC6278   \n",
       "4                   -1  989EEF92F2A525DD896557425EA7C4C7   \n",
       "\n",
       "                         product_id  \\\n",
       "0                        product_id   \n",
       "1  E0B8A58942AD00411F94DC480E187E64   \n",
       "2  F29147A240F4B1945EBAC85159AB9A56   \n",
       "3  F73208C88398FDA9BD1522A4CA67F8B8   \n",
       "4  C0FD3010A8E54E0DA78EBE451FF28128   \n",
       "\n",
       "                                       product_title  \\\n",
       "0                                      product_title   \n",
       "1  79FB52BC086F410AFFD19B69426DF923 7FE78A2301139...   \n",
       "2  7490FDD3B232D01748AB294BCA9854D0 25887A6625AAD...   \n",
       "3  BA2580C036E251F1A4651A1DF94C7E3A 949A59B278D8B...   \n",
       "4  0AD77EF609C0582FBF99A1B6AC3E87A6 F6F4CBF56EBB5...   \n",
       "\n",
       "                         partner_id                           user_id  \n",
       "0                        partner_id                           user_id  \n",
       "1  DE8AF4DB950D7A4F844B744FA402C4A8  95C3CF40CFEFD9DEF99995CD90A23D42  \n",
       "2  6BFFDE668C5BC3938C875D3D0940E699  73F7922D0081EE864EABA4EFED7817EF  \n",
       "3  925829CF82DFDC74DE3F88F003CE7BEF  A546410581F20DC088ED664C6513ACB7  \n",
       "4  C38B671959ACFDA46C5129405124203E  34A21E0D4EA7F2AC06F9B7310BDAC770  \n",
       "\n",
       "[5 rows x 23 columns]"
      ]
     },
     "execution_count": 2,
     "metadata": {},
     "output_type": "execute_result"
    }
   ],
   "source": [
    "df_original[:5]"
   ]
  },
  {
   "cell_type": "code",
   "execution_count": 3,
   "metadata": {},
   "outputs": [],
   "source": [
    "# # tworzenie nowego dataframe'u zawierającego one hot vectory\n",
    "# import time\n",
    "# data_as_dict = df_original.to_dict()\n",
    "# del lst\n",
    "# del df_original\n",
    "# transformed_data_as_dict = dict.fromkeys(required_columns_list)\n",
    "\n",
    "\n",
    "# transformed_data_as_dict['Sale'] = data_as_dict['Sale']\n",
    "# transformed_data_as_dict['SalesAmountInEuro'] = data_as_dict['SalesAmountInEuro']\n",
    "# transformed_data_as_dict['time_delay_for_conversion'] = data_as_dict['time_delay_for_conversion']\n",
    "# transformed_data_as_dict['click_timestamp'] = data_as_dict['click_timestamp']\n",
    "# transformed_data_as_dict['nb_clicks_1week'] = data_as_dict['nb_clicks_1week']\n",
    "\n",
    "# start = time.time()\n",
    "# for column_id, column_name in enumerate(data_as_dict):\n",
    "#     if column_id > 2:\n",
    "#         for cell in data_as_dict[column_name]:\n",
    "#             transformed_column_name = column_name + str(cell)\n",
    "#             if transformed_column_name in required_columns_list:\n",
    "#                 transformed_data_as_dict[column_name + str(cell)] = '1'\n",
    "    \n",
    "# transformed_dataframe = pd.DataFrame.from_dict(transformed_data_as_dict)\n",
    "# transformed_dataframe = transformed_dataframe.drop(transformed_dataframe.index[0])\n",
    "# transformed_dataframe = transformed_dataframe.fillna(0)\n",
    "# transformed_dataframe[:3]\n",
    "\n",
    "# end = time.time()\n",
    "# print(end-start)"
   ]
  },
  {
   "cell_type": "code",
   "execution_count": 4,
   "metadata": {},
   "outputs": [],
   "source": [
    "# start = time.time()\n",
    "# transformed_dataframe.to_csv(\"Dataset\\hah400k.csv\", sep='\\t', index=False)\n",
    "# end = time.time()\n",
    "# print(end-start)"
   ]
  },
  {
   "cell_type": "code",
   "execution_count": 5,
   "metadata": {},
   "outputs": [],
   "source": [
    "# df_original[df_original.isnull().any(axis=1)].loc[:,'product_title']"
   ]
  },
  {
   "cell_type": "code",
   "execution_count": 6,
   "metadata": {},
   "outputs": [
    {
     "name": "stdout",
     "output_type": "stream",
     "text": [
      "Sale                          0\n",
      "SalesAmountInEuro             0\n",
      "time_delay_for_conversion     0\n",
      "click_timestamp               0\n",
      "nb_clicks_1week               0\n",
      "product_price                 0\n",
      "product_age_group             0\n",
      "device_type                   0\n",
      "audience_id                   0\n",
      "product_gender                0\n",
      "product_brand                 0\n",
      "product_category(1)           0\n",
      "product_category(2)           0\n",
      "product_category(3)           0\n",
      "product_category(4)           0\n",
      "product_category(5)           0\n",
      "product_category(6)           0\n",
      "product_category(7)           0\n",
      "product_country               0\n",
      "product_id                    0\n",
      "product_title                20\n",
      "partner_id                    0\n",
      "user_id                       0\n",
      "dtype: int64\n"
     ]
    },
    {
     "data": {
      "text/plain": [
       "Sale                         0\n",
       "SalesAmountInEuro            0\n",
       "time_delay_for_conversion    0\n",
       "click_timestamp              0\n",
       "nb_clicks_1week              0\n",
       "product_price                0\n",
       "product_age_group            0\n",
       "device_type                  0\n",
       "audience_id                  0\n",
       "product_gender               0\n",
       "product_brand                0\n",
       "product_category(1)          0\n",
       "product_category(2)          0\n",
       "product_category(3)          0\n",
       "product_category(4)          0\n",
       "product_category(5)          0\n",
       "product_category(6)          0\n",
       "product_category(7)          0\n",
       "product_country              0\n",
       "product_id                   0\n",
       "product_title                0\n",
       "partner_id                   0\n",
       "user_id                      0\n",
       "dtype: int64"
      ]
     },
     "execution_count": 6,
     "metadata": {},
     "output_type": "execute_result"
    }
   ],
   "source": [
    "print(df_original.isnull().sum())\n",
    "df = df_original.dropna(axis=0) # usuwanie wierszy, które zawierają null\n",
    "df.isnull().sum()\n"
   ]
  },
  {
   "cell_type": "code",
   "execution_count": 7,
   "metadata": {},
   "outputs": [
    {
     "name": "stdout",
     "output_type": "stream",
     "text": [
      "0\t3\tSale\n",
      "1\t655\tSalesAmountInEuro\n",
      "2\t694\ttime_delay_for_conversion\n",
      "3\t4839\tclick_timestamp\n",
      "4\t725\tnb_clicks_1week\n",
      "5\t456\tproduct_price\n",
      "6\t8\tproduct_age_group\n",
      "7\t5\tdevice_type\n",
      "8\t976\taudience_id\n",
      "9\t10\tproduct_gender\n",
      "10\t1178\tproduct_brand\n",
      "11\t21\tproduct_category(1)\n",
      "12\t113\tproduct_category(2)\n",
      "13\t357\tproduct_category(3)\n",
      "14\t376\tproduct_category(4)\n",
      "15\t150\tproduct_category(5)\n",
      "16\t41\tproduct_category(6)\n",
      "17\t2\tproduct_category(7)\n",
      "18\t12\tproduct_country\n",
      "19\t4940\tproduct_id\n",
      "20\t4009\tproduct_title\n",
      "21\t165\tpartner_id\n",
      "22\t9528\tuser_id\n"
     ]
    }
   ],
   "source": [
    "columns = list(df)\n",
    "for id, name in enumerate(columns):\n",
    "    count = len(df.iloc[:,id].unique())\n",
    "    print(str(id) + \"\\t\" + str(count) +  \"\\t\" + name  )"
   ]
  },
  {
   "cell_type": "code",
   "execution_count": 8,
   "metadata": {},
   "outputs": [
    {
     "ename": "NameError",
     "evalue": "name 'df_common_columns' is not defined",
     "output_type": "error",
     "traceback": [
      "\u001b[1;31m---------------------------------------------------------------------------\u001b[0m",
      "\u001b[1;31mNameError\u001b[0m                                 Traceback (most recent call last)",
      "\u001b[1;32m<ipython-input-8-2e980fe8687b>\u001b[0m in \u001b[0;36m<module>\u001b[1;34m\u001b[0m\n\u001b[0;32m     14\u001b[0m \u001b[1;33m\u001b[0m\u001b[0m\n\u001b[0;32m     15\u001b[0m \u001b[0mdf_only_one_hot_vectors_columns\u001b[0m \u001b[1;33m=\u001b[0m \u001b[0mpd\u001b[0m\u001b[1;33m.\u001b[0m\u001b[0mget_dummies\u001b[0m\u001b[1;33m(\u001b[0m\u001b[0mdf\u001b[0m\u001b[1;33m.\u001b[0m\u001b[0miloc\u001b[0m\u001b[1;33m[\u001b[0m\u001b[1;33m:\u001b[0m\u001b[1;33m,\u001b[0m\u001b[0mindex_of_columns_to_change_to_one_hot_vectors\u001b[0m\u001b[1;33m]\u001b[0m\u001b[1;33m)\u001b[0m\u001b[1;33m\u001b[0m\u001b[1;33m\u001b[0m\u001b[0m\n\u001b[1;32m---> 16\u001b[1;33m \u001b[0mdf_common_columns\u001b[0m \u001b[1;33m=\u001b[0m \u001b[0mdf_common_columns\u001b[0m\u001b[1;33m.\u001b[0m\u001b[0mdrop\u001b[0m\u001b[1;33m(\u001b[0m\u001b[0mdf_common_columns\u001b[0m\u001b[1;33m.\u001b[0m\u001b[0mindex\u001b[0m\u001b[1;33m[\u001b[0m\u001b[1;36m0\u001b[0m\u001b[1;33m]\u001b[0m\u001b[1;33m)\u001b[0m\u001b[1;33m\u001b[0m\u001b[1;33m\u001b[0m\u001b[0m\n\u001b[0m\u001b[0;32m     17\u001b[0m \u001b[0mdf_common_columns\u001b[0m \u001b[1;33m=\u001b[0m \u001b[0mdf\u001b[0m\u001b[1;33m.\u001b[0m\u001b[0miloc\u001b[0m\u001b[1;33m[\u001b[0m\u001b[1;33m:\u001b[0m\u001b[1;33m,\u001b[0m\u001b[1;33m[\u001b[0m\u001b[1;36m0\u001b[0m\u001b[1;33m,\u001b[0m \u001b[1;36m1\u001b[0m\u001b[1;33m,\u001b[0m \u001b[1;36m2\u001b[0m\u001b[1;33m,\u001b[0m \u001b[1;36m4\u001b[0m\u001b[1;33m,\u001b[0m \u001b[1;36m5\u001b[0m \u001b[1;33m]\u001b[0m\u001b[1;33m]\u001b[0m\u001b[1;33m\u001b[0m\u001b[1;33m\u001b[0m\u001b[0m\n\u001b[0;32m     18\u001b[0m \u001b[0mdf_copy\u001b[0m \u001b[1;33m=\u001b[0m \u001b[0mpd\u001b[0m\u001b[1;33m.\u001b[0m\u001b[0mconcat\u001b[0m\u001b[1;33m(\u001b[0m\u001b[1;33m[\u001b[0m\u001b[0mdf_common_columns\u001b[0m\u001b[1;33m,\u001b[0m \u001b[0mdf_only_one_hot_vectors_columns\u001b[0m \u001b[1;33m]\u001b[0m\u001b[1;33m,\u001b[0m \u001b[0maxis\u001b[0m\u001b[1;33m=\u001b[0m\u001b[1;36m1\u001b[0m\u001b[1;33m,\u001b[0m \u001b[0msort\u001b[0m\u001b[1;33m=\u001b[0m\u001b[1;32mTrue\u001b[0m\u001b[1;33m)\u001b[0m\u001b[1;33m\u001b[0m\u001b[1;33m\u001b[0m\u001b[0m\n",
      "\u001b[1;31mNameError\u001b[0m: name 'df_common_columns' is not defined"
     ]
    }
   ],
   "source": [
    "# index_of_columns_with_lower_than_1000_unique_values = []\n",
    "# excluded_indexes = [0, 1, 2, 3, 4, 5]\n",
    "# for id, count in enumerate(count_of_unique_values_in_each_row):\n",
    "#     if id not in excluded_indexes:\n",
    "#         if count < 1000:\n",
    "#             index_of_columns_with_lower_than_1000_unique_values.append(id)\n",
    "# df = pd.get_dummies(df.iloc[:,index_of_columns_with_lower_than_1000_unique_values])\n",
    "\n",
    "# df = pd.get_dummies(df.iloc[:,[6,7,9,11,12,13,14,15,16,17,18,21]])\n",
    "\n",
    "\n",
    "df_copy=df\n",
    "index_of_columns_to_change_to_one_hot_vectors = [6, 7, 9, 11, 12, 13, 14, 15, 16, 17, 18, 21]\n",
    "\n",
    "df_only_one_hot_vectors_columns = pd.get_dummies(df.iloc[:,index_of_columns_to_change_to_one_hot_vectors])\n",
    "df_common_columns = df_common_columns.drop(df_common_columns.index[0])\n",
    "df_common_columns = df.iloc[:,[0, 1, 2, 4, 5 ]]\n",
    "df_copy = pd.concat([df_common_columns, df_only_one_hot_vectors_columns ], axis=1, sort=True)\n",
    "df=df_copy"
   ]
  },
  {
   "cell_type": "code",
   "execution_count": null,
   "metadata": {},
   "outputs": [],
   "source": [
    "# df.to_csv(\"one_hot_vectors_data_whole_file.csv\", sep='\\t', index=False)"
   ]
  },
  {
   "cell_type": "code",
   "execution_count": null,
   "metadata": {},
   "outputs": [],
   "source": [
    "from sklearn.model_selection import train_test_split\n",
    "\n",
    "X = df.iloc[:,3:].values\n",
    "y = df.iloc[:,:1].values.ravel() # tutaj powinny być chyba 3 kolumny\n",
    "X_train, X_test, y_train, y_test = train_test_split(X, y, test_size=0.3, random_state=1)\n",
    "print('Liczba etykiet w zbiorze y:', np.bincount(y))\n",
    "print('Liczba etykiet w zbiorze y_train:', np.bincount(y_train))\n",
    "print('Liczba etykiet w zbiorze y_test:', np.bincount(y_test))"
   ]
  },
  {
   "cell_type": "code",
   "execution_count": null,
   "metadata": {},
   "outputs": [],
   "source": [
    "# from sklearn.preprocessing import OneHotEncoder\n",
    "# ohe = OneHotEncoder(categories='auto')\n",
    "# ohe.fit_transform(X).toarray()"
   ]
  },
  {
   "cell_type": "code",
   "execution_count": null,
   "metadata": {},
   "outputs": [],
   "source": [
    "from sklearn.preprocessing import StandardScaler\n",
    "sc = StandardScaler()\n",
    "sc.fit(X_train)\n",
    "X_train_std = sc.transform(X_train)\n",
    "X_test_std = sc.transform(X_test)\n"
   ]
  },
  {
   "cell_type": "code",
   "execution_count": null,
   "metadata": {},
   "outputs": [],
   "source": [
    "from sklearn.linear_model import Perceptron, LogisticRegression, SGDClassifier\n",
    "import random\n",
    "# ppn = Perceptron(eta0=0.1, random_state=1, n_jobs=-1)\n",
    "# ppn.fit(X_train_std, y_train)\n",
    "\n",
    "# lr = LogisticRegression(C=1000.0, random_state=1, solver=\"lbfgs\", n_jobs=-1, verbose=1)\n",
    "# lr.fit(X_train_std, y_train)\n",
    "\n",
    "\n",
    "X_train_std, X_val_std, y_train, y_val = train_test_split(X_train_std, y_train, test_size=0.2, random_state=1)\n",
    "lr = SGDClassifier(loss='log', verbose=0, n_jobs=-1, random_state=1)\n",
    "lr.fit(X_train_std, y_train)\n"
   ]
  },
  {
   "cell_type": "code",
   "execution_count": null,
   "metadata": {},
   "outputs": [],
   "source": [
    "# y_pred = ppn.predict(X_test_std)\n",
    "# print('Nieprawidłowo sklasyfikowane próbki: %d' % (y_test != y_pred).sum())\n",
    "\n",
    "y_pred = lr.predict(X_test_std)\n",
    "print('Nieprawidłowo sklasyfikowane próbki: %d' % (y_test != y_pred).sum())"
   ]
  },
  {
   "cell_type": "code",
   "execution_count": null,
   "metadata": {},
   "outputs": [],
   "source": [
    "type(X_test_std)"
   ]
  },
  {
   "cell_type": "code",
   "execution_count": null,
   "metadata": {},
   "outputs": [],
   "source": [
    "X_test_std"
   ]
  },
  {
   "cell_type": "code",
   "execution_count": null,
   "metadata": {},
   "outputs": [],
   "source": [
    "from sklearn.metrics import accuracy_score\n",
    "print('Dokładność: %.2f' % accuracy_score(y_test, y_pred))\n",
    "lr.partial_fit(X_val_std, y_val)"
   ]
  },
  {
   "cell_type": "code",
   "execution_count": null,
   "metadata": {},
   "outputs": [],
   "source": [
    "# print('Dokładność: %.2f' % ppn.score(X_test_std, y_test))\n",
    "print('Dokładność: %.2f' % lr.score(X_test_std, y_test))"
   ]
  },
  {
   "cell_type": "code",
   "execution_count": null,
   "metadata": {},
   "outputs": [],
   "source": [
    "# sqlite\n",
    "from sqlalchemy import create_engine\n",
    "engine = create_engine('sqlite://', echo=False)\n",
    "df_original[0:0].to_sql('samples', con=engine)\n",
    "engine.execute(\"SELECT * FROM samples LIMIT 3\").fetchall()"
   ]
  },
  {
   "cell_type": "code",
   "execution_count": null,
   "metadata": {},
   "outputs": [],
   "source": [
    "df_original[0:1].to_sql('samples', con=engine, if_exists='append')\n",
    "engine.execute(\"SELECT * FROM samples LIMIT 3\").fetchall()\n",
    "\n"
   ]
  },
  {
   "cell_type": "code",
   "execution_count": null,
   "metadata": {},
   "outputs": [],
   "source": [
    "engine.execute(\"DROP TABLE SAMPLES\")"
   ]
  },
  {
   "cell_type": "code",
   "execution_count": null,
   "metadata": {},
   "outputs": [],
   "source": [
    "g = np.array([1,3,10,22,4])\n",
    "f = np.array([a<10 for a in g])\n",
    "g[f]\n",
    "\n",
    "\n"
   ]
  },
  {
   "cell_type": "code",
   "execution_count": null,
   "metadata": {},
   "outputs": [],
   "source": [
    "3 < 5 : 'a' ? 'b'"
   ]
  },
  {
   "cell_type": "code",
   "execution_count": null,
   "metadata": {},
   "outputs": [],
   "source": [
    "'a' if 3 > 2 else \"pass\""
   ]
  },
  {
   "cell_type": "code",
   "execution_count": null,
   "metadata": {},
   "outputs": [],
   "source": [
    "rows, columns = df.shape\n",
    "rows"
   ]
  },
  {
   "cell_type": "code",
   "execution_count": null,
   "metadata": {},
   "outputs": [],
   "source": []
  }
 ],
 "metadata": {
  "kernelspec": {
   "display_name": "Python 3",
   "language": "python",
   "name": "python3"
  },
  "language_info": {
   "codemirror_mode": {
    "name": "ipython",
    "version": 3
   },
   "file_extension": ".py",
   "mimetype": "text/x-python",
   "name": "python",
   "nbconvert_exporter": "python",
   "pygments_lexer": "ipython3",
   "version": "3.7.3"
  }
 },
 "nbformat": 4,
 "nbformat_minor": 2
}
